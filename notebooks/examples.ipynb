{
 "cells": [
  {
   "cell_type": "code",
   "execution_count": 26,
   "metadata": {},
   "outputs": [
    {
     "name": "stdout",
     "output_type": "stream",
     "text": [
      "The autoreload extension is already loaded. To reload it, use:\n",
      "  %reload_ext autoreload\n"
     ]
    },
    {
     "data": {
      "text/plain": [
       "True"
      ]
     },
     "execution_count": 26,
     "metadata": {},
     "output_type": "execute_result"
    }
   ],
   "source": [
    "import datetime as dt\n",
    "from collections import OrderedDict\n",
    "from pathlib import Path\n",
    "import sys\n",
    "import os\n",
    "\n",
    "from dotenv import load_dotenv, find_dotenv\n",
    "\n",
    "ROOT = Path('../')\n",
    "DATA_DIR = ROOT/'tests'/'data'\n",
    "OUT_DIR = ROOT/'output'\n",
    "\n",
    "sys.path.append(str(ROOT))\n",
    "\n",
    "%load_ext autoreload\n",
    "%autoreload 2\n",
    "\n",
    "import countdowner as cd\n",
    "\n",
    "load_dotenv(find_dotenv())\n"
   ]
  },
  {
   "cell_type": "code",
   "execution_count": 17,
   "metadata": {},
   "outputs": [
    {
     "data": {
      "text/plain": [
       "{'name': 'test',\n",
       " 'email_addresses': ['brainbummer@mailinator.com', 'rhymedude@mailinator.com'],\n",
       " 'products':     description       stock_code\n",
       " 0   Brazil nuts           363477\n",
       " 1  GB chocolate           260803\n",
       " 2          fake  fake_stock_code\n",
       " 3        cheese           281739}"
      ]
     },
     "execution_count": 17,
     "metadata": {},
     "output_type": "execute_result"
    }
   ],
   "source": [
    "# Read a watchlist\n",
    "\n",
    "w = cd.read_watchlist(DATA_DIR/'watchlist.yaml')\n",
    "w\n"
   ]
  },
  {
   "cell_type": "code",
   "execution_count": 18,
   "metadata": {},
   "outputs": [
    {
     "data": {
      "text/plain": [
       "OrderedDict([('stock_code', '363477'),\n",
       "             ('name', 'Ceres Organics Brazil Nuts 250g'),\n",
       "             ('description',\n",
       "              \"Ceres organics brazil nuts are sourced from the pristine forests of the amazon, where they're sustainably grown and harvested. They're carefully selected, shelled and dried with minimal processing, to retain their natural goodness. Packed with the antioxidant selenium and a good source of the essential mineral magnesium, they make a nutritious snack. You can also enjoy their creamy, nutty deliciousness in salads, hot or cold cereals, or baked goods.\"),\n",
       "             ('size', '250g'),\n",
       "             ('sale_price', 13.4),\n",
       "             ('price', 14.2),\n",
       "             ('discount_percentage', 5.6),\n",
       "             ('unit_price', '$5.36/100G'),\n",
       "             ('datetime', '2020-06-11T17:35:22')])"
      ]
     },
     "execution_count": 18,
     "metadata": {},
     "output_type": "execute_result"
    }
   ],
   "source": [
    "# Get and parse a product\n",
    "\n",
    "code = w['products']['stock_code'].iat[0]\n",
    "response = cd.get_product(code)\n",
    "cd.parse_product(response)"
   ]
  },
  {
   "cell_type": "code",
   "execution_count": 19,
   "metadata": {},
   "outputs": [
    {
     "name": "stdout",
     "output_type": "stream",
     "text": [
      "CPU times: user 266 ms, sys: 24.8 ms, total: 291 ms\n",
      "Wall time: 1 s\n"
     ]
    },
    {
     "data": {
      "text/html": [
       "<div>\n",
       "<style scoped>\n",
       "    .dataframe tbody tr th:only-of-type {\n",
       "        vertical-align: middle;\n",
       "    }\n",
       "\n",
       "    .dataframe tbody tr th {\n",
       "        vertical-align: top;\n",
       "    }\n",
       "\n",
       "    .dataframe thead th {\n",
       "        text-align: right;\n",
       "    }\n",
       "</style>\n",
       "<table border=\"1\" class=\"dataframe\">\n",
       "  <thead>\n",
       "    <tr style=\"text-align: right;\">\n",
       "      <th></th>\n",
       "      <th>stock_code</th>\n",
       "      <th>name</th>\n",
       "      <th>description</th>\n",
       "      <th>size</th>\n",
       "      <th>sale_price</th>\n",
       "      <th>price</th>\n",
       "      <th>discount_percentage</th>\n",
       "      <th>unit_price</th>\n",
       "      <th>datetime</th>\n",
       "    </tr>\n",
       "  </thead>\n",
       "  <tbody>\n",
       "    <tr>\n",
       "      <th>0</th>\n",
       "      <td>363477</td>\n",
       "      <td>Ceres Organics Brazil Nuts 250g</td>\n",
       "      <td>Ceres organics brazil nuts are sourced from th...</td>\n",
       "      <td>250g</td>\n",
       "      <td>13.4</td>\n",
       "      <td>14.2</td>\n",
       "      <td>5.6</td>\n",
       "      <td>$5.36/100G</td>\n",
       "      <td>2020-06-11 17:35:23</td>\n",
       "    </tr>\n",
       "    <tr>\n",
       "      <th>1</th>\n",
       "      <td>260803</td>\n",
       "      <td>None</td>\n",
       "      <td>None</td>\n",
       "      <td>None</td>\n",
       "      <td>NaN</td>\n",
       "      <td>NaN</td>\n",
       "      <td>NaN</td>\n",
       "      <td>None</td>\n",
       "      <td>2020-06-11 17:35:23</td>\n",
       "    </tr>\n",
       "    <tr>\n",
       "      <th>2</th>\n",
       "      <td>fake_stock_code</td>\n",
       "      <td>None</td>\n",
       "      <td>None</td>\n",
       "      <td>None</td>\n",
       "      <td>NaN</td>\n",
       "      <td>NaN</td>\n",
       "      <td>NaN</td>\n",
       "      <td>None</td>\n",
       "      <td>2020-06-11 17:35:23</td>\n",
       "    </tr>\n",
       "    <tr>\n",
       "      <th>3</th>\n",
       "      <td>281739</td>\n",
       "      <td>Mainland Cheese Block Organic Cheddar 500g</td>\n",
       "      <td>Mainland organic cheddar is a mild cheddar che...</td>\n",
       "      <td>500g</td>\n",
       "      <td>NaN</td>\n",
       "      <td>16.0</td>\n",
       "      <td>NaN</td>\n",
       "      <td>$32.00/1KG</td>\n",
       "      <td>2020-06-11 17:35:24</td>\n",
       "    </tr>\n",
       "  </tbody>\n",
       "</table>\n",
       "</div>"
      ],
      "text/plain": [
       "        stock_code                                        name  \\\n",
       "0           363477             Ceres Organics Brazil Nuts 250g   \n",
       "1           260803                                        None   \n",
       "2  fake_stock_code                                        None   \n",
       "3           281739  Mainland Cheese Block Organic Cheddar 500g   \n",
       "\n",
       "                                         description  size  sale_price  price  \\\n",
       "0  Ceres organics brazil nuts are sourced from th...  250g        13.4   14.2   \n",
       "1                                               None  None         NaN    NaN   \n",
       "2                                               None  None         NaN    NaN   \n",
       "3  Mainland organic cheddar is a mild cheddar che...  500g         NaN   16.0   \n",
       "\n",
       "   discount_percentage  unit_price            datetime  \n",
       "0                  5.6  $5.36/100G 2020-06-11 17:35:23  \n",
       "1                  NaN        None 2020-06-11 17:35:23  \n",
       "2                  NaN        None 2020-06-11 17:35:23  \n",
       "3                  NaN  $32.00/1KG 2020-06-11 17:35:24  "
      ]
     },
     "execution_count": 19,
     "metadata": {},
     "output_type": "execute_result"
    }
   ],
   "source": [
    "# Get and parse many products\n",
    "\n",
    "codes = w['products']['stock_code'].values\n",
    "%time f = cd.collect_products(codes)\n",
    "f"
   ]
  },
  {
   "cell_type": "code",
   "execution_count": 20,
   "metadata": {},
   "outputs": [
    {
     "data": {
      "text/html": [
       "<div>\n",
       "<style scoped>\n",
       "    .dataframe tbody tr th:only-of-type {\n",
       "        vertical-align: middle;\n",
       "    }\n",
       "\n",
       "    .dataframe tbody tr th {\n",
       "        vertical-align: top;\n",
       "    }\n",
       "\n",
       "    .dataframe thead th {\n",
       "        text-align: right;\n",
       "    }\n",
       "</style>\n",
       "<table border=\"1\" class=\"dataframe\">\n",
       "  <thead>\n",
       "    <tr style=\"text-align: right;\">\n",
       "      <th></th>\n",
       "      <th>name</th>\n",
       "      <th>sale_price</th>\n",
       "      <th>price</th>\n",
       "      <th>discount_percentage</th>\n",
       "    </tr>\n",
       "  </thead>\n",
       "  <tbody>\n",
       "    <tr>\n",
       "      <th>0</th>\n",
       "      <td>Ceres Organics Brazil Nuts 250g</td>\n",
       "      <td>13.4</td>\n",
       "      <td>14.2</td>\n",
       "      <td>5.6</td>\n",
       "    </tr>\n",
       "  </tbody>\n",
       "</table>\n",
       "</div>"
      ],
      "text/plain": [
       "                              name  sale_price  price  discount_percentage\n",
       "0  Ceres Organics Brazil Nuts 250g        13.4   14.2                  5.6"
      ]
     },
     "execution_count": 20,
     "metadata": {},
     "output_type": "execute_result"
    }
   ],
   "source": [
    "# Filter sales\n",
    "\n",
    "cd.filter_sales(f)"
   ]
  },
  {
   "cell_type": "code",
   "execution_count": 31,
   "metadata": {},
   "outputs": [
    {
     "data": {
      "text/plain": [
       "<Response [400]>"
      ]
     },
     "execution_count": 31,
     "metadata": {},
     "output_type": "execute_result"
    }
   ],
   "source": [
    "# Email sales\n",
    "\n",
    "domain = os.getenv('MAILGUN_DOMAIN') # replace with your Mailgun domain\n",
    "key = os.getenv('MAILGUN_KEY') # replace with your Mailgun API key\n",
    "cd.email(f, ['brainbummer@mailinator.com'], domain, key)"
   ]
  },
  {
   "cell_type": "code",
   "execution_count": 29,
   "metadata": {},
   "outputs": [
    {
     "data": {
      "text/html": [
       "<div>\n",
       "<style scoped>\n",
       "    .dataframe tbody tr th:only-of-type {\n",
       "        vertical-align: middle;\n",
       "    }\n",
       "\n",
       "    .dataframe tbody tr th {\n",
       "        vertical-align: top;\n",
       "    }\n",
       "\n",
       "    .dataframe thead th {\n",
       "        text-align: right;\n",
       "    }\n",
       "</style>\n",
       "<table border=\"1\" class=\"dataframe\">\n",
       "  <thead>\n",
       "    <tr style=\"text-align: right;\">\n",
       "      <th></th>\n",
       "      <th>stock_code</th>\n",
       "      <th>name</th>\n",
       "      <th>description</th>\n",
       "      <th>size</th>\n",
       "      <th>sale_price</th>\n",
       "      <th>price</th>\n",
       "      <th>discount_percentage</th>\n",
       "      <th>unit_price</th>\n",
       "      <th>datetime</th>\n",
       "    </tr>\n",
       "  </thead>\n",
       "  <tbody>\n",
       "    <tr>\n",
       "      <th>0</th>\n",
       "      <td>363477</td>\n",
       "      <td>Ceres Organics Brazil Nuts 250g</td>\n",
       "      <td>Ceres organics brazil nuts are sourced from th...</td>\n",
       "      <td>250g</td>\n",
       "      <td>13.4</td>\n",
       "      <td>14.2</td>\n",
       "      <td>5.6</td>\n",
       "      <td>$5.36/100G</td>\n",
       "      <td>2020-06-11 17:38:22</td>\n",
       "    </tr>\n",
       "    <tr>\n",
       "      <th>1</th>\n",
       "      <td>260803</td>\n",
       "      <td>None</td>\n",
       "      <td>None</td>\n",
       "      <td>None</td>\n",
       "      <td>NaN</td>\n",
       "      <td>NaN</td>\n",
       "      <td>NaN</td>\n",
       "      <td>None</td>\n",
       "      <td>2020-06-11 17:38:23</td>\n",
       "    </tr>\n",
       "    <tr>\n",
       "      <th>2</th>\n",
       "      <td>fake_stock_code</td>\n",
       "      <td>None</td>\n",
       "      <td>None</td>\n",
       "      <td>None</td>\n",
       "      <td>NaN</td>\n",
       "      <td>NaN</td>\n",
       "      <td>NaN</td>\n",
       "      <td>None</td>\n",
       "      <td>2020-06-11 17:38:23</td>\n",
       "    </tr>\n",
       "    <tr>\n",
       "      <th>3</th>\n",
       "      <td>281739</td>\n",
       "      <td>Mainland Cheese Block Organic Cheddar 500g</td>\n",
       "      <td>Mainland organic cheddar is a mild cheddar che...</td>\n",
       "      <td>500g</td>\n",
       "      <td>NaN</td>\n",
       "      <td>16.0</td>\n",
       "      <td>NaN</td>\n",
       "      <td>$32.00/1KG</td>\n",
       "      <td>2020-06-11 17:38:23</td>\n",
       "    </tr>\n",
       "  </tbody>\n",
       "</table>\n",
       "</div>"
      ],
      "text/plain": [
       "        stock_code                                        name  \\\n",
       "0           363477             Ceres Organics Brazil Nuts 250g   \n",
       "1           260803                                        None   \n",
       "2  fake_stock_code                                        None   \n",
       "3           281739  Mainland Cheese Block Organic Cheddar 500g   \n",
       "\n",
       "                                         description  size  sale_price  price  \\\n",
       "0  Ceres organics brazil nuts are sourced from th...  250g        13.4   14.2   \n",
       "1                                               None  None         NaN    NaN   \n",
       "2                                               None  None         NaN    NaN   \n",
       "3  Mainland organic cheddar is a mild cheddar che...  500g         NaN   16.0   \n",
       "\n",
       "   discount_percentage  unit_price            datetime  \n",
       "0                  5.6  $5.36/100G 2020-06-11 17:38:22  \n",
       "1                  NaN        None 2020-06-11 17:38:23  \n",
       "2                  NaN        None 2020-06-11 17:38:23  \n",
       "3                  NaN  $32.00/1KG 2020-06-11 17:38:23  "
      ]
     },
     "execution_count": 29,
     "metadata": {},
     "output_type": "execute_result"
    }
   ],
   "source": [
    "# Get products in bulk\n",
    "\n",
    "cd.run_pipeline(DATA_DIR/'watchlist.yaml')"
   ]
  },
  {
   "cell_type": "code",
   "execution_count": 30,
   "metadata": {},
   "outputs": [],
   "source": [
    "# Run pipeline again: read watchlist, collect products, write products to file, \n",
    "# filter sales, and email results\n",
    "\n",
    "cd.run_pipeline(DATA_DIR/'watchlist.yaml', OUT_DIR/'products.csv', domain, key)\n",
    "%less {OUT_DIR/'products.csv'}"
   ]
  },
  {
   "cell_type": "code",
   "execution_count": null,
   "metadata": {},
   "outputs": [],
   "source": []
  }
 ],
 "metadata": {
  "kernelspec": {
   "display_name": "Python 3",
   "language": "python",
   "name": "python3"
  },
  "language_info": {
   "codemirror_mode": {
    "name": "ipython",
    "version": 3
   },
   "file_extension": ".py",
   "mimetype": "text/x-python",
   "name": "python",
   "nbconvert_exporter": "python",
   "pygments_lexer": "ipython3",
   "version": "3.8.3"
  }
 },
 "nbformat": 4,
 "nbformat_minor": 2
}
