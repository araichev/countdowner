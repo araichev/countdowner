{
 "cells": [
  {
   "cell_type": "code",
   "execution_count": 1,
   "metadata": {},
   "outputs": [],
   "source": [
    "import datetime as dt\n",
    "import sys\n",
    "\n",
    "from dotenv import load_dotenv, find_dotenv\n",
    "\n",
    "sys.path.append(\"../\")\n",
    "import countdowner as cd\n",
    "\n",
    "load_dotenv(find_dotenv())\n",
    "\n",
    "%load_ext autoreload\n",
    "%autoreload 2\n"
   ]
  },
  {
   "cell_type": "code",
   "execution_count": 2,
   "metadata": {},
   "outputs": [
    {
     "data": {
      "text/plain": [
       "['281739', '32467', '297000']"
      ]
     },
     "metadata": {},
     "output_type": "display_data"
    },
    {
     "data": {
      "text/plain": [
       "['291156', '32467', '281739']"
      ]
     },
     "metadata": {},
     "output_type": "display_data"
    }
   ],
   "source": [
    "# Read a watchlist\n",
    "\n",
    "stock_codes = cd.read_watchlist(cd.DATA_DIR / \"watchlist.csv\")\n",
    "display(stock_codes)\n",
    "\n",
    "url = \"https://docs.google.com/spreadsheets/d/15bS8R4CGQhOO0izbCyquNf8L-4IeG1xXUfZ8aLEXA0I/edit?usp=sharing\"\n",
    "stock_codes = cd.read_watchlist(url)\n",
    "display(stock_codes)\n"
   ]
  },
  {
   "cell_type": "code",
   "execution_count": 3,
   "metadata": {},
   "outputs": [
    {
     "data": {
      "text/plain": [
       "{'stock_code': '291156',\n",
       " 'name': 'Macro Brazil Nuts ',\n",
       " 'description': None,\n",
       " 'size': '250g',\n",
       " 'unit_price_($)': 3.0,\n",
       " 'unit_size': '100G',\n",
       " 'sale_price_($)': 7.5,\n",
       " 'normal_price_($)': 7.5,\n",
       " 'discount_(%)': 0.0,\n",
       " 'datetime': '2020-12-10T10:43:46'}"
      ]
     },
     "execution_count": 3,
     "metadata": {},
     "output_type": "execute_result"
    }
   ],
   "source": [
    "# Get and parse a product\n",
    "\n",
    "r = cd.get_product(stock_codes[0])\n",
    "cd.parse_product(r)"
   ]
  },
  {
   "cell_type": "code",
   "execution_count": 4,
   "metadata": {},
   "outputs": [
    {
     "name": "stdout",
     "output_type": "stream",
     "text": [
      "CPU times: user 74.7 ms, sys: 3.48 ms, total: 78.2 ms\n",
      "Wall time: 612 ms\n"
     ]
    },
    {
     "data": {
      "text/html": [
       "<div>\n",
       "<style scoped>\n",
       "    .dataframe tbody tr th:only-of-type {\n",
       "        vertical-align: middle;\n",
       "    }\n",
       "\n",
       "    .dataframe tbody tr th {\n",
       "        vertical-align: top;\n",
       "    }\n",
       "\n",
       "    .dataframe thead th {\n",
       "        text-align: right;\n",
       "    }\n",
       "</style>\n",
       "<table border=\"1\" class=\"dataframe\">\n",
       "  <thead>\n",
       "    <tr style=\"text-align: right;\">\n",
       "      <th></th>\n",
       "      <th>stock_code</th>\n",
       "      <th>name</th>\n",
       "      <th>description</th>\n",
       "      <th>size</th>\n",
       "      <th>unit_price_($)</th>\n",
       "      <th>unit_size</th>\n",
       "      <th>sale_price_($)</th>\n",
       "      <th>normal_price_($)</th>\n",
       "      <th>discount_(%)</th>\n",
       "      <th>datetime</th>\n",
       "    </tr>\n",
       "  </thead>\n",
       "  <tbody>\n",
       "    <tr>\n",
       "      <th>0</th>\n",
       "      <td>291156</td>\n",
       "      <td>Macro Brazil Nuts</td>\n",
       "      <td>None</td>\n",
       "      <td>250g</td>\n",
       "      <td>3.00</td>\n",
       "      <td>100G</td>\n",
       "      <td>7.5</td>\n",
       "      <td>7.5</td>\n",
       "      <td>0.0</td>\n",
       "      <td>2020-12-10 10:43:46</td>\n",
       "    </tr>\n",
       "    <tr>\n",
       "      <th>1</th>\n",
       "      <td>32467</td>\n",
       "      <td>Green &amp; Blacks Chocolate Block Dark 85% Cocoa</td>\n",
       "      <td>Passionately crafted by bringing together the ...</td>\n",
       "      <td>90g</td>\n",
       "      <td>4.22</td>\n",
       "      <td>100G</td>\n",
       "      <td>3.8</td>\n",
       "      <td>3.8</td>\n",
       "      <td>0.0</td>\n",
       "      <td>2020-12-10 10:43:47</td>\n",
       "    </tr>\n",
       "    <tr>\n",
       "      <th>2</th>\n",
       "      <td>281739</td>\n",
       "      <td>Mainland Cheese Block Organic Cheddar</td>\n",
       "      <td>Mainland organic cheddar is a mild cheddar che...</td>\n",
       "      <td>500g</td>\n",
       "      <td>32.00</td>\n",
       "      <td>1KG</td>\n",
       "      <td>16.0</td>\n",
       "      <td>16.0</td>\n",
       "      <td>0.0</td>\n",
       "      <td>2020-12-10 10:43:47</td>\n",
       "    </tr>\n",
       "  </tbody>\n",
       "</table>\n",
       "</div>"
      ],
      "text/plain": [
       "  stock_code                                           name  \\\n",
       "0     291156                             Macro Brazil Nuts    \n",
       "1      32467  Green & Blacks Chocolate Block Dark 85% Cocoa   \n",
       "2     281739          Mainland Cheese Block Organic Cheddar   \n",
       "\n",
       "                                         description  size  unit_price_($)  \\\n",
       "0                                               None  250g            3.00   \n",
       "1  Passionately crafted by bringing together the ...   90g            4.22   \n",
       "2  Mainland organic cheddar is a mild cheddar che...  500g           32.00   \n",
       "\n",
       "  unit_size  sale_price_($)  normal_price_($)  discount_(%)  \\\n",
       "0      100G             7.5               7.5           0.0   \n",
       "1      100G             3.8               3.8           0.0   \n",
       "2       1KG            16.0              16.0           0.0   \n",
       "\n",
       "             datetime  \n",
       "0 2020-12-10 10:43:46  \n",
       "1 2020-12-10 10:43:47  \n",
       "2 2020-12-10 10:43:47  "
      ]
     },
     "execution_count": 4,
     "metadata": {},
     "output_type": "execute_result"
    }
   ],
   "source": [
    "# Get and parse many products\n",
    "\n",
    "%time f = cd.collect_products(stock_codes)\n",
    "f"
   ]
  },
  {
   "cell_type": "code",
   "execution_count": 5,
   "metadata": {},
   "outputs": [
    {
     "data": {
      "text/html": [
       "<div>\n",
       "<style scoped>\n",
       "    .dataframe tbody tr th:only-of-type {\n",
       "        vertical-align: middle;\n",
       "    }\n",
       "\n",
       "    .dataframe tbody tr th {\n",
       "        vertical-align: top;\n",
       "    }\n",
       "\n",
       "    .dataframe thead th {\n",
       "        text-align: right;\n",
       "    }\n",
       "</style>\n",
       "<table border=\"1\" class=\"dataframe\">\n",
       "  <thead>\n",
       "    <tr style=\"text-align: right;\">\n",
       "      <th></th>\n",
       "      <th>name</th>\n",
       "      <th>sale_price_($)</th>\n",
       "      <th>normal_price_($)</th>\n",
       "      <th>discount_(%)</th>\n",
       "    </tr>\n",
       "  </thead>\n",
       "  <tbody>\n",
       "  </tbody>\n",
       "</table>\n",
       "</div>"
      ],
      "text/plain": [
       "Empty DataFrame\n",
       "Columns: [name, sale_price_($), normal_price_($), discount_(%)]\n",
       "Index: []"
      ]
     },
     "execution_count": 5,
     "metadata": {},
     "output_type": "execute_result"
    }
   ],
   "source": [
    "# Filter sales\n",
    "\n",
    "cd.filter_sales(f)"
   ]
  },
  {
   "cell_type": "code",
   "execution_count": 6,
   "metadata": {},
   "outputs": [
    {
     "ename": "NameError",
     "evalue": "name 'recipients' is not defined",
     "output_type": "error",
     "traceback": [
      "\u001b[0;31m---------------------------------------------------------------------------\u001b[0m",
      "\u001b[0;31mNameError\u001b[0m                                 Traceback (most recent call last)",
      "\u001b[0;32m<ipython-input-6-20a60830d9ab>\u001b[0m in \u001b[0;36m<module>\u001b[0;34m\u001b[0m\n\u001b[1;32m      1\u001b[0m \u001b[0;31m# Get products in bulk\u001b[0m\u001b[0;34m\u001b[0m\u001b[0;34m\u001b[0m\u001b[0;34m\u001b[0m\u001b[0m\n\u001b[1;32m      2\u001b[0m \u001b[0;34m\u001b[0m\u001b[0m\n\u001b[0;32m----> 3\u001b[0;31m \u001b[0mcd\u001b[0m\u001b[0;34m.\u001b[0m\u001b[0mrun_pipeline\u001b[0m\u001b[0;34m(\u001b[0m\u001b[0mcd\u001b[0m\u001b[0;34m.\u001b[0m\u001b[0mDATA_DIR\u001b[0m\u001b[0;34m/\u001b[0m\u001b[0;34m'watchlist.csv'\u001b[0m\u001b[0;34m,\u001b[0m \u001b[0mrecipients\u001b[0m\u001b[0;34m)\u001b[0m\u001b[0;34m\u001b[0m\u001b[0;34m\u001b[0m\u001b[0m\n\u001b[0m",
      "\u001b[0;31mNameError\u001b[0m: name 'recipients' is not defined"
     ]
    }
   ],
   "source": [
    "# Get products in bulk\n",
    "\n",
    "cd.run_pipeline(cd.DATA_DIR/'watchlist.csv', recipients)"
   ]
  },
  {
   "cell_type": "code",
   "execution_count": null,
   "metadata": {},
   "outputs": [],
   "source": [
    "# Run pipeline again: read watchlist, collect products, write products to file, \n",
    "# filter sales, and email results\n",
    "\n",
    "cd.run_pipeline(cd.DATA_DIR/'watchlist.csv', out_path=OUT_DIR/'products.csv')\n",
    "%less {OUT_DIR/'products.csv'}"
   ]
  },
  {
   "cell_type": "code",
   "execution_count": null,
   "metadata": {},
   "outputs": [],
   "source": [
    "# Email sales\n",
    "recipients = [\"brainbummer@mailinator.com\"]\n",
    "print(f\"Emailing {recipients}\")\n",
    "\n",
    "username = os.getenv('GMAIL_USERNAME')  # Replace with your GMail username\n",
    "password = os.getenv('GMAIL_PASSWORD')  # Replace with your GMail password\n",
    "cd.run_pipeline(cd.DATA_DIR/'watchlist.csv', recipients, gmail_username=username, gmail_password=password)"
   ]
  },
  {
   "cell_type": "code",
   "execution_count": null,
   "metadata": {},
   "outputs": [],
   "source": []
  }
 ],
 "metadata": {
  "kernelspec": {
   "display_name": "Python 3",
   "language": "python",
   "name": "python3"
  },
  "language_info": {
   "codemirror_mode": {
    "name": "ipython",
    "version": 3
   },
   "file_extension": ".py",
   "mimetype": "text/x-python",
   "name": "python",
   "nbconvert_exporter": "python",
   "pygments_lexer": "ipython3",
   "version": "3.8.3"
  }
 },
 "nbformat": 4,
 "nbformat_minor": 2
}
