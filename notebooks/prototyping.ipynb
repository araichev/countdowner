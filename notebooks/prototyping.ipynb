{
 "cells": [
  {
   "cell_type": "code",
   "execution_count": 20,
   "metadata": {},
   "outputs": [
    {
     "name": "stdout",
     "output_type": "stream",
     "text": [
      "The autoreload extension is already loaded. To reload it, use:\n",
      "  %reload_ext autoreload\n"
     ]
    },
    {
     "data": {
      "text/plain": [
       "True"
      ]
     },
     "execution_count": 20,
     "metadata": {},
     "output_type": "execute_result"
    }
   ],
   "source": [
    "import datetime as dt\n",
    "from collections import OrderedDict\n",
    "from pathlib import Path\n",
    "import sys\n",
    "import os\n",
    "\n",
    "import requests\n",
    "from dotenv import load_dotenv, find_dotenv\n",
    "import yagmail\n",
    "\n",
    "ROOT = Path('../')\n",
    "DATA_DIR = ROOT/'tests'/'data'\n",
    "OUT_DIR = ROOT/'output'\n",
    "\n",
    "sys.path.append(str(ROOT))\n",
    "\n",
    "%load_ext autoreload\n",
    "%autoreload 2\n",
    "\n",
    "import countdowner as cd\n",
    "\n",
    "load_dotenv(find_dotenv())\n"
   ]
  },
  {
   "cell_type": "code",
   "execution_count": 31,
   "metadata": {},
   "outputs": [
    {
     "data": {
      "text/plain": [
       "'Hello Frei'"
      ]
     },
     "execution_count": 31,
     "metadata": {},
     "output_type": "execute_result"
    }
   ],
   "source": [
    "import titlecase as tc\n",
    "\n",
    "tc.titlecase(\"hello frei\")"
   ]
  },
  {
   "cell_type": "code",
   "execution_count": 32,
   "metadata": {},
   "outputs": [
    {
     "data": {
      "text/plain": [
       "{'stock_code': '32467',\n",
       " 'name': 'Green & Blacks Chocolate Block Dark 85% Cocoa',\n",
       " 'description': \"Passionately crafted by bringing together the finest ingredients, green & black's offers a distinctively delicious, smooth chocolate experience. Green symbolises our commitment to ethically sourced cocoa, & black stands for the high quality and delicious taste of our chocolate, for pure chocolate pleasure. Green & black's organic 85% dark chocolate is made with a generous measure of madagascan vanilla to balance the bitter notes of the cocoa, creating chocolate that is intense and smooth.\",\n",
       " 'size': '90g',\n",
       " 'unit_price_($)': 3.33,\n",
       " 'unit_size': '100G',\n",
       " 'sale_price_($)': 3.0,\n",
       " 'price_($)': 3.8,\n",
       " 'discount_(%)': 21.1,\n",
       " 'datetime': '2020-06-19T15:13:41'}"
      ]
     },
     "execution_count": 32,
     "metadata": {},
     "output_type": "execute_result"
    }
   ],
   "source": [
    "stock_code = 281809\n",
    "stock_code = 32467\n",
    "r = cd.get_product(stock_code)\n",
    "cd.parse_product(r)"
   ]
  },
  {
   "cell_type": "code",
   "execution_count": 33,
   "metadata": {},
   "outputs": [
    {
     "data": {
      "text/plain": [
       "{'originalPrice': 3.8,\n",
       " 'salePrice': 3.0,\n",
       " 'savePrice': 0.8,\n",
       " 'hasBonusPoints': False,\n",
       " 'isClubPrice': False,\n",
       " 'isSpecial': True,\n",
       " 'isNew': False,\n",
       " 'canShowOriginalPrice': True,\n",
       " 'discount': None,\n",
       " 'total': None}"
      ]
     },
     "execution_count": 33,
     "metadata": {},
     "output_type": "execute_result"
    }
   ],
   "source": [
    "r.json()[\"price\"]"
   ]
  },
  {
   "cell_type": "code",
   "execution_count": 16,
   "metadata": {},
   "outputs": [],
   "source": [
    "url = f\"https://shop.countdown.co.nz/api/v1/products/{stock_code}\"\n",
    "headers = {\n",
    "#    \"content-type\": \"application/json\",\n",
    "#    \"accept\": \"application/json, text/plain, */*\",\n",
    "#    \"referrer\": f\"https://shop.countdown.co.nz/shop/productdetails?stockcode={stock_code}\",\n",
    "#    \"user-agent\": \"Mozilla/5.0 (X11; Linux x86_64) AppleWebKit/537.36 (KHTML, like Gecko) Chrome/79.0.3945.117 Safari/537.36\",\n",
    "#     \"cookie\": \"ASP.NET_SessionId=4jvrbqw51xkno2z0grwq1lop; cw-laie=51e20fecf5a747429dfc7c2cb60663ac; __RequestVerificationToken=9ROhr4_9QAmfQjR2yEVPQu1EqVhDjZGHkQ0Mc9hoW3df-PHwN87UHKIfb0RQ2C7AaJ2UWfQG0xLvAMZmltO_SijcHZcqlbGr9xIBWbEnx1U1; cw-next=next; gig_bootstrap_3_PWTq_MK-V930M4hDLpcL_qqUx224X_zPBEZ8yJeX45RHI-uKWYQC5QadqeRIfQKB=login_ver3; ARRAffinity=c2dba6f1a343c8b908c4c09af49d7b98f09d8a609f95e791c930db34ec6d2ef1; ai_user=l17Us|2020-06-16T08:23:15.491Z; AKA_A2=A; gig_canary=true; gig_canary_ver=11036-5-26541090; dtid=1:js/FnfDMK8oXGFdGBLvHj6a0MORHG/Y1s8MsnGgkzOHUZFX+xRPMb5BlxYFhEK+kIpkTwCggfiODcz2YlbWbQUtOP0qVNZmmPwDHSv2MTM7l1Fc=; cw-arjshtsw=p1a864245d3b9452787dfd88a9671c302pwkqrbhkl; akavpau_vpshop=1592468120~id=29ff300510c713e6ed5a307d2bbb707a; ai_sessioncw-=5JXSn|1592467820537.885|1592467820537.885\",\n",
    "#     \"dnt\": \"1\",\n",
    "#     \"expires\": \"Sat, 01 Jan 2000 00:00:00 GMT\",\n",
    "    \"pragma\": \"no-cache\",\n",
    "    \"request-id\": \"|152bd0342157410fba1b6a2e34e5356c.2a93cdb1dc4f49fe\",\n",
    "    \"sec-fetch-mode\": \"cors\",\n",
    "    \"sec-fetch-site\": \"same-origin\",\n",
    "    \"x-requested-with\": \"OnlineShopping.WebApp\",\n",
    "}\n",
    "r = requests.get(url, headers=headers)\n"
   ]
  },
  {
   "cell_type": "code",
   "execution_count": 36,
   "metadata": {},
   "outputs": [
    {
     "data": {
      "text/plain": [
       "'{\"sku\": \"32467\", \"name\": \"Green & Blacks Chocolate Block Dark 85% Cocoa\", \"description\": \"description\", \"size\": {\"volumeSize\": \"90g\", \"cupMeasure\": \"100g\", \"cupPrice\": 3.3}, \"price\": {\"originalPrice\": 3.33, \"salePrice\": 3}}'"
      ]
     },
     "execution_count": 36,
     "metadata": {},
     "output_type": "execute_result"
    }
   ],
   "source": [
    "import json\n",
    "\n",
    "BODY = json.dumps({\n",
    "    'sku': '32467',\n",
    "    'name': 'Green & Blacks Chocolate Block Dark 85% Cocoa',\n",
    "    'description': 'description',\n",
    "    'size': {'volumeSize': '90g', 'cupMeasure': '100g', 'cupPrice': 3.3},\n",
    "    'price': {'originalPrice': 3.33, 'salePrice': 3},\n",
    "})\n",
    "\n",
    "BODY"
   ]
  },
  {
   "cell_type": "code",
   "execution_count": 25,
   "metadata": {},
   "outputs": [
    {
     "data": {
      "text/plain": [
       "{'cupPrice': 10.0,\n",
       " 'cupMeasure': '1KG',\n",
       " 'packageType': None,\n",
       " 'volumeSize': '1kg'}"
      ]
     },
     "execution_count": 25,
     "metadata": {},
     "output_type": "execute_result"
    }
   ],
   "source": [
    "d[\"size\"]"
   ]
  },
  {
   "cell_type": "code",
   "execution_count": null,
   "metadata": {},
   "outputs": [],
   "source": []
  }
 ],
 "metadata": {
  "kernelspec": {
   "display_name": "Python 3",
   "language": "python",
   "name": "python3"
  },
  "language_info": {
   "codemirror_mode": {
    "name": "ipython",
    "version": 3
   },
   "file_extension": ".py",
   "mimetype": "text/x-python",
   "name": "python",
   "nbconvert_exporter": "python",
   "pygments_lexer": "ipython3",
   "version": "3.8.3"
  }
 },
 "nbformat": 4,
 "nbformat_minor": 2
}
