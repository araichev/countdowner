{
 "cells": [
  {
   "cell_type": "code",
   "execution_count": null,
   "metadata": {},
   "outputs": [],
   "source": [
    "import datetime as dt\n",
    "from collections import OrderedDict\n",
    "from pathlib import Path\n",
    "import sys\n",
    "import os\n",
    "\n",
    "import requests\n",
    "from dotenv import load_dotenv, find_dotenv\n",
    "import yagmail\n",
    "\n",
    "ROOT = Path('../')\n",
    "DATA_DIR = ROOT/'tests'/'data'\n",
    "OUT_DIR = ROOT/'output'\n",
    "\n",
    "sys.path.append(str(ROOT))\n",
    "\n",
    "%load_ext autoreload\n",
    "%autoreload 2\n",
    "\n",
    "import countdowner as cd\n",
    "\n",
    "load_dotenv(find_dotenv())\n"
   ]
  },
  {
   "cell_type": "code",
   "execution_count": null,
   "metadata": {},
   "outputs": [],
   "source": [
    "stock_code = 32467\n",
    "url = f\"https://shop.countdown.co.nz/api/v1/products/{stock_code}\"\n",
    "headers = {\n",
    "#    \"content-type\": \"application/json\",\n",
    "#    \"accept\": \"application/json, text/plain, */*\",\n",
    "#    \"referrer\": f\"https://shop.countdown.co.nz/shop/productdetails?stockcode={stock_code}\",\n",
    "#    \"user-agent\": \"Mozilla/5.0 (X11; Linux x86_64) AppleWebKit/537.36 (KHTML, like Gecko) Chrome/79.0.3945.117 Safari/537.36\",\n",
    "#     \"cookie\": \"ASP.NET_SessionId=4jvrbqw51xkno2z0grwq1lop; cw-laie=51e20fecf5a747429dfc7c2cb60663ac; __RequestVerificationToken=9ROhr4_9QAmfQjR2yEVPQu1EqVhDjZGHkQ0Mc9hoW3df-PHwN87UHKIfb0RQ2C7AaJ2UWfQG0xLvAMZmltO_SijcHZcqlbGr9xIBWbEnx1U1; cw-next=next; gig_bootstrap_3_PWTq_MK-V930M4hDLpcL_qqUx224X_zPBEZ8yJeX45RHI-uKWYQC5QadqeRIfQKB=login_ver3; ARRAffinity=c2dba6f1a343c8b908c4c09af49d7b98f09d8a609f95e791c930db34ec6d2ef1; ai_user=l17Us|2020-06-16T08:23:15.491Z; AKA_A2=A; gig_canary=true; gig_canary_ver=11036-5-26541090; dtid=1:js/FnfDMK8oXGFdGBLvHj6a0MORHG/Y1s8MsnGgkzOHUZFX+xRPMb5BlxYFhEK+kIpkTwCggfiODcz2YlbWbQUtOP0qVNZmmPwDHSv2MTM7l1Fc=; cw-arjshtsw=p1a864245d3b9452787dfd88a9671c302pwkqrbhkl; akavpau_vpshop=1592468120~id=29ff300510c713e6ed5a307d2bbb707a; ai_sessioncw-=5JXSn|1592467820537.885|1592467820537.885\",\n",
    "#     \"dnt\": \"1\",\n",
    "#     \"expires\": \"Sat, 01 Jan 2000 00:00:00 GMT\",\n",
    "    \"pragma\": \"no-cache\",\n",
    "    \"request-id\": \"|152bd0342157410fba1b6a2e34e5356c.2a93cdb1dc4f49fe\",\n",
    "    \"sec-fetch-mode\": \"cors\",\n",
    "    \"sec-fetch-site\": \"same-origin\",\n",
    "    \"x-requested-with\": \"OnlineShopping.WebApp\",\n",
    "}\n",
    "requests.get(url, headers=headers).json()\n"
   ]
  },
  {
   "cell_type": "code",
   "execution_count": null,
   "metadata": {},
   "outputs": [],
   "source": [
    "%%time\n",
    "\n",
    "with yagmail.SMTP(username, password) as yag:\n",
    "    yag.send('ibatatas@runbox.com', 'Testing', 'Message')"
   ]
  },
  {
   "cell_type": "code",
   "execution_count": null,
   "metadata": {},
   "outputs": [],
   "source": []
  }
 ],
 "metadata": {
  "kernelspec": {
   "display_name": "Python 3",
   "language": "python",
   "name": "python3"
  },
  "language_info": {
   "codemirror_mode": {
    "name": "ipython",
    "version": 3
   },
   "file_extension": ".py",
   "mimetype": "text/x-python",
   "name": "python",
   "nbconvert_exporter": "python",
   "pygments_lexer": "ipython3",
   "version": "3.8.3"
  }
 },
 "nbformat": 4,
 "nbformat_minor": 2
}
