{
 "cells": [
  {
   "cell_type": "code",
   "execution_count": 1,
   "metadata": {},
   "outputs": [],
   "source": [
    "import datetime as dt\n",
    "from collections import OrderedDict\n",
    "from pathlib import Path\n",
    "import sys\n",
    "import os\n",
    "\n",
    "ROOT = Path('../')\n",
    "DATA_DIR = ROOT/'tests'/'data'\n",
    "OUT_DIR = ROOT/'output'\n",
    "\n",
    "sys.path.append(str(ROOT))\n",
    "\n",
    "%load_ext autoreload\n",
    "%autoreload 2\n",
    "\n",
    "import countdowner as cd"
   ]
  },
  {
   "cell_type": "code",
   "execution_count": 10,
   "metadata": {},
   "outputs": [
    {
     "data": {
      "text/plain": [
       "{'email_addresses': ['brainbummer@mailinator.com', 'rhymedude@mailinator.com'],\n",
       " 'name': 'test',\n",
       " 'products':     description       stock_code\n",
       " 0   Brazil nuts           363477\n",
       " 1  GB chocolate           260803\n",
       " 2          fake  fake_stock_code\n",
       " 3        cheese           281739}"
      ]
     },
     "execution_count": 10,
     "metadata": {},
     "output_type": "execute_result"
    }
   ],
   "source": [
    "# Read a watchlist\n",
    "\n",
    "w = cd.read_watchlist(DATA_DIR/'watchlist.yaml')\n",
    "w\n"
   ]
  },
  {
   "cell_type": "code",
   "execution_count": 11,
   "metadata": {},
   "outputs": [
    {
     "data": {
      "text/plain": [
       "OrderedDict([('stock_code', '363477'),\n",
       "             ('name', 'Ceres Organics Brazil Nuts 250g'),\n",
       "             ('description', None),\n",
       "             ('size', '250g'),\n",
       "             ('sale_price', 9.5),\n",
       "             ('price', 11.29),\n",
       "             ('discount_percentage', 15.854738706820193),\n",
       "             ('unit_price', '$3.80/100G'),\n",
       "             ('datetime', '2017-12-06T18:27:21')])"
      ]
     },
     "execution_count": 11,
     "metadata": {},
     "output_type": "execute_result"
    }
   ],
   "source": [
    "# Get and parse a product\n",
    "\n",
    "code = w['products']['stock_code'].iat[0]\n",
    "response = cd.get_product(code)\n",
    "cd.parse_product(response)"
   ]
  },
  {
   "cell_type": "code",
   "execution_count": 12,
   "metadata": {},
   "outputs": [
    {
     "name": "stdout",
     "output_type": "stream",
     "text": [
      "CPU times: user 380 ms, sys: 8 ms, total: 388 ms\n",
      "Wall time: 1.28 s\n"
     ]
    },
    {
     "data": {
      "text/html": [
       "<div>\n",
       "<style>\n",
       "    .dataframe thead tr:only-child th {\n",
       "        text-align: right;\n",
       "    }\n",
       "\n",
       "    .dataframe thead th {\n",
       "        text-align: left;\n",
       "    }\n",
       "\n",
       "    .dataframe tbody tr th {\n",
       "        vertical-align: top;\n",
       "    }\n",
       "</style>\n",
       "<table border=\"1\" class=\"dataframe\">\n",
       "  <thead>\n",
       "    <tr style=\"text-align: right;\">\n",
       "      <th></th>\n",
       "      <th>stock_code</th>\n",
       "      <th>name</th>\n",
       "      <th>description</th>\n",
       "      <th>size</th>\n",
       "      <th>sale_price</th>\n",
       "      <th>price</th>\n",
       "      <th>discount_percentage</th>\n",
       "      <th>unit_price</th>\n",
       "      <th>datetime</th>\n",
       "    </tr>\n",
       "  </thead>\n",
       "  <tbody>\n",
       "    <tr>\n",
       "      <th>0</th>\n",
       "      <td>363477</td>\n",
       "      <td>Ceres Organics Brazil Nuts 250g</td>\n",
       "      <td>None</td>\n",
       "      <td>250g</td>\n",
       "      <td>9.5</td>\n",
       "      <td>11.29</td>\n",
       "      <td>15.854739</td>\n",
       "      <td>$3.80/100G</td>\n",
       "      <td>2017-12-06 18:27:24</td>\n",
       "    </tr>\n",
       "    <tr>\n",
       "      <th>1</th>\n",
       "      <td>260803</td>\n",
       "      <td>Green &amp; Blacks Chocolate Block Organic Dark Ch...</td>\n",
       "      <td>None</td>\n",
       "      <td>100g</td>\n",
       "      <td>NaN</td>\n",
       "      <td>3.99</td>\n",
       "      <td>NaN</td>\n",
       "      <td>$3.99/100G</td>\n",
       "      <td>2017-12-06 18:27:24</td>\n",
       "    </tr>\n",
       "    <tr>\n",
       "      <th>2</th>\n",
       "      <td>fake_stock_code</td>\n",
       "      <td>None</td>\n",
       "      <td>None</td>\n",
       "      <td>None</td>\n",
       "      <td>NaN</td>\n",
       "      <td>NaN</td>\n",
       "      <td>NaN</td>\n",
       "      <td>None</td>\n",
       "      <td>2017-12-06 18:27:25</td>\n",
       "    </tr>\n",
       "    <tr>\n",
       "      <th>3</th>\n",
       "      <td>281739</td>\n",
       "      <td>Mainland Cheese Block Organic Cheddar 500g</td>\n",
       "      <td>Mainland organic cheddar is a mild cheddar che...</td>\n",
       "      <td>500g</td>\n",
       "      <td>7.3</td>\n",
       "      <td>11.00</td>\n",
       "      <td>33.636364</td>\n",
       "      <td>$14.60/1KG</td>\n",
       "      <td>2017-12-06 18:27:25</td>\n",
       "    </tr>\n",
       "  </tbody>\n",
       "</table>\n",
       "</div>"
      ],
      "text/plain": [
       "        stock_code                                               name  \\\n",
       "0           363477                    Ceres Organics Brazil Nuts 250g   \n",
       "1           260803  Green & Blacks Chocolate Block Organic Dark Ch...   \n",
       "2  fake_stock_code                                               None   \n",
       "3           281739         Mainland Cheese Block Organic Cheddar 500g   \n",
       "\n",
       "                                         description  size  sale_price  price  \\\n",
       "0                                               None  250g         9.5  11.29   \n",
       "1                                               None  100g         NaN   3.99   \n",
       "2                                               None  None         NaN    NaN   \n",
       "3  Mainland organic cheddar is a mild cheddar che...  500g         7.3  11.00   \n",
       "\n",
       "   discount_percentage  unit_price            datetime  \n",
       "0            15.854739  $3.80/100G 2017-12-06 18:27:24  \n",
       "1                  NaN  $3.99/100G 2017-12-06 18:27:24  \n",
       "2                  NaN        None 2017-12-06 18:27:25  \n",
       "3            33.636364  $14.60/1KG 2017-12-06 18:27:25  "
      ]
     },
     "execution_count": 12,
     "metadata": {},
     "output_type": "execute_result"
    }
   ],
   "source": [
    "# Get and parse many products\n",
    "\n",
    "codes = w['products']['stock_code'].values\n",
    "%time f = cd.collect_products(codes, async=False)\n",
    "f"
   ]
  },
  {
   "cell_type": "code",
   "execution_count": 13,
   "metadata": {},
   "outputs": [
    {
     "name": "stdout",
     "output_type": "stream",
     "text": [
      "CPU times: user 316 ms, sys: 4 ms, total: 320 ms\n",
      "Wall time: 682 ms\n"
     ]
    },
    {
     "data": {
      "text/html": [
       "<div>\n",
       "<style>\n",
       "    .dataframe thead tr:only-child th {\n",
       "        text-align: right;\n",
       "    }\n",
       "\n",
       "    .dataframe thead th {\n",
       "        text-align: left;\n",
       "    }\n",
       "\n",
       "    .dataframe tbody tr th {\n",
       "        vertical-align: top;\n",
       "    }\n",
       "</style>\n",
       "<table border=\"1\" class=\"dataframe\">\n",
       "  <thead>\n",
       "    <tr style=\"text-align: right;\">\n",
       "      <th></th>\n",
       "      <th>stock_code</th>\n",
       "      <th>name</th>\n",
       "      <th>description</th>\n",
       "      <th>size</th>\n",
       "      <th>sale_price</th>\n",
       "      <th>price</th>\n",
       "      <th>discount_percentage</th>\n",
       "      <th>unit_price</th>\n",
       "      <th>datetime</th>\n",
       "    </tr>\n",
       "  </thead>\n",
       "  <tbody>\n",
       "    <tr>\n",
       "      <th>0</th>\n",
       "      <td>363477</td>\n",
       "      <td>Ceres Organics Brazil Nuts 250g</td>\n",
       "      <td>None</td>\n",
       "      <td>250g</td>\n",
       "      <td>9.5</td>\n",
       "      <td>11.29</td>\n",
       "      <td>15.854739</td>\n",
       "      <td>$3.80/100G</td>\n",
       "      <td>2017-12-06 18:27:28</td>\n",
       "    </tr>\n",
       "    <tr>\n",
       "      <th>1</th>\n",
       "      <td>260803</td>\n",
       "      <td>Green &amp; Blacks Chocolate Block Organic Dark Ch...</td>\n",
       "      <td>None</td>\n",
       "      <td>100g</td>\n",
       "      <td>NaN</td>\n",
       "      <td>3.99</td>\n",
       "      <td>NaN</td>\n",
       "      <td>$3.99/100G</td>\n",
       "      <td>2017-12-06 18:27:28</td>\n",
       "    </tr>\n",
       "    <tr>\n",
       "      <th>2</th>\n",
       "      <td>fake_stock_code</td>\n",
       "      <td>None</td>\n",
       "      <td>None</td>\n",
       "      <td>None</td>\n",
       "      <td>NaN</td>\n",
       "      <td>NaN</td>\n",
       "      <td>NaN</td>\n",
       "      <td>None</td>\n",
       "      <td>2017-12-06 18:27:28</td>\n",
       "    </tr>\n",
       "    <tr>\n",
       "      <th>3</th>\n",
       "      <td>281739</td>\n",
       "      <td>Mainland Cheese Block Organic Cheddar 500g</td>\n",
       "      <td>Mainland organic cheddar is a mild cheddar che...</td>\n",
       "      <td>500g</td>\n",
       "      <td>7.3</td>\n",
       "      <td>11.00</td>\n",
       "      <td>33.636364</td>\n",
       "      <td>$14.60/1KG</td>\n",
       "      <td>2017-12-06 18:27:28</td>\n",
       "    </tr>\n",
       "  </tbody>\n",
       "</table>\n",
       "</div>"
      ],
      "text/plain": [
       "        stock_code                                               name  \\\n",
       "0           363477                    Ceres Organics Brazil Nuts 250g   \n",
       "1           260803  Green & Blacks Chocolate Block Organic Dark Ch...   \n",
       "2  fake_stock_code                                               None   \n",
       "3           281739         Mainland Cheese Block Organic Cheddar 500g   \n",
       "\n",
       "                                         description  size  sale_price  price  \\\n",
       "0                                               None  250g         9.5  11.29   \n",
       "1                                               None  100g         NaN   3.99   \n",
       "2                                               None  None         NaN    NaN   \n",
       "3  Mainland organic cheddar is a mild cheddar che...  500g         7.3  11.00   \n",
       "\n",
       "   discount_percentage  unit_price            datetime  \n",
       "0            15.854739  $3.80/100G 2017-12-06 18:27:28  \n",
       "1                  NaN  $3.99/100G 2017-12-06 18:27:28  \n",
       "2                  NaN        None 2017-12-06 18:27:28  \n",
       "3            33.636364  $14.60/1KG 2017-12-06 18:27:28  "
      ]
     },
     "execution_count": 13,
     "metadata": {},
     "output_type": "execute_result"
    }
   ],
   "source": [
    "# Get many products asynchronously and parse\n",
    "\n",
    "codes = w['products']['stock_code'].values\n",
    "%time f = cd.collect_products(codes, async=True)\n",
    "f"
   ]
  },
  {
   "cell_type": "code",
   "execution_count": 14,
   "metadata": {},
   "outputs": [
    {
     "data": {
      "text/html": [
       "<div>\n",
       "<style>\n",
       "    .dataframe thead tr:only-child th {\n",
       "        text-align: right;\n",
       "    }\n",
       "\n",
       "    .dataframe thead th {\n",
       "        text-align: left;\n",
       "    }\n",
       "\n",
       "    .dataframe tbody tr th {\n",
       "        vertical-align: top;\n",
       "    }\n",
       "</style>\n",
       "<table border=\"1\" class=\"dataframe\">\n",
       "  <thead>\n",
       "    <tr style=\"text-align: right;\">\n",
       "      <th></th>\n",
       "      <th>name</th>\n",
       "      <th>sale_price</th>\n",
       "      <th>price</th>\n",
       "      <th>discount_percentage</th>\n",
       "    </tr>\n",
       "  </thead>\n",
       "  <tbody>\n",
       "    <tr>\n",
       "      <th>3</th>\n",
       "      <td>Mainland Cheese Block Organic Cheddar 500g</td>\n",
       "      <td>7.3</td>\n",
       "      <td>11.00</td>\n",
       "      <td>33.636364</td>\n",
       "    </tr>\n",
       "    <tr>\n",
       "      <th>0</th>\n",
       "      <td>Ceres Organics Brazil Nuts 250g</td>\n",
       "      <td>9.5</td>\n",
       "      <td>11.29</td>\n",
       "      <td>15.854739</td>\n",
       "    </tr>\n",
       "  </tbody>\n",
       "</table>\n",
       "</div>"
      ],
      "text/plain": [
       "                                         name  sale_price  price  \\\n",
       "3  Mainland Cheese Block Organic Cheddar 500g         7.3  11.00   \n",
       "0             Ceres Organics Brazil Nuts 250g         9.5  11.29   \n",
       "\n",
       "   discount_percentage  \n",
       "3            33.636364  \n",
       "0            15.854739  "
      ]
     },
     "execution_count": 14,
     "metadata": {},
     "output_type": "execute_result"
    }
   ],
   "source": [
    "# Filter sales\n",
    "\n",
    "cd.filter_sales(f)"
   ]
  },
  {
   "cell_type": "code",
   "execution_count": 16,
   "metadata": {},
   "outputs": [
    {
     "data": {
      "text/plain": [
       "<Response [200]>"
      ]
     },
     "execution_count": 16,
     "metadata": {},
     "output_type": "execute_result"
    }
   ],
   "source": [
    "# Email sales\n",
    "\n",
    "domain = os.environ['MAILGUN_DOMAIN'] # replace with your Mailgun domain\n",
    "key = os.environ['MAILGUN_KEY'] # replace with your Mailgun API key\n",
    "cd.email(f, ['brainbummer@mailinator.com'], domain, key)"
   ]
  },
  {
   "cell_type": "code",
   "execution_count": 30,
   "metadata": {},
   "outputs": [
    {
     "data": {
      "text/html": [
       "<div>\n",
       "<style>\n",
       "    .dataframe thead tr:only-child th {\n",
       "        text-align: right;\n",
       "    }\n",
       "\n",
       "    .dataframe thead th {\n",
       "        text-align: left;\n",
       "    }\n",
       "\n",
       "    .dataframe tbody tr th {\n",
       "        vertical-align: top;\n",
       "    }\n",
       "</style>\n",
       "<table border=\"1\" class=\"dataframe\">\n",
       "  <thead>\n",
       "    <tr style=\"text-align: right;\">\n",
       "      <th></th>\n",
       "      <th>stock_code</th>\n",
       "      <th>name</th>\n",
       "      <th>description</th>\n",
       "      <th>size</th>\n",
       "      <th>sale_price</th>\n",
       "      <th>price</th>\n",
       "      <th>discount_percentage</th>\n",
       "      <th>unit_price</th>\n",
       "      <th>datetime</th>\n",
       "    </tr>\n",
       "  </thead>\n",
       "  <tbody>\n",
       "    <tr>\n",
       "      <th>2</th>\n",
       "      <td>281739</td>\n",
       "      <td>Mainland Cheese Block Organic Cheddar 500g</td>\n",
       "      <td>Mainland organic cheddar is a mild cheddar che...</td>\n",
       "      <td>500g</td>\n",
       "      <td>7.3</td>\n",
       "      <td>11.00</td>\n",
       "      <td>33.6</td>\n",
       "      <td>$14.60/1KG</td>\n",
       "      <td>2017-12-06 19:23:27</td>\n",
       "    </tr>\n",
       "    <tr>\n",
       "      <th>1</th>\n",
       "      <td>363477</td>\n",
       "      <td>Ceres Organics Brazil Nuts 250g</td>\n",
       "      <td>None</td>\n",
       "      <td>250g</td>\n",
       "      <td>9.5</td>\n",
       "      <td>11.29</td>\n",
       "      <td>15.9</td>\n",
       "      <td>$3.80/100G</td>\n",
       "      <td>2017-12-06 19:23:27</td>\n",
       "    </tr>\n",
       "    <tr>\n",
       "      <th>0</th>\n",
       "      <td>260803</td>\n",
       "      <td>Green &amp; Blacks Chocolate Block Organic Dark Ch...</td>\n",
       "      <td>None</td>\n",
       "      <td>100g</td>\n",
       "      <td>NaN</td>\n",
       "      <td>3.99</td>\n",
       "      <td>NaN</td>\n",
       "      <td>$3.99/100G</td>\n",
       "      <td>2017-12-06 19:23:27</td>\n",
       "    </tr>\n",
       "    <tr>\n",
       "      <th>3</th>\n",
       "      <td>fake_stock_code</td>\n",
       "      <td>None</td>\n",
       "      <td>None</td>\n",
       "      <td>None</td>\n",
       "      <td>NaN</td>\n",
       "      <td>NaN</td>\n",
       "      <td>NaN</td>\n",
       "      <td>None</td>\n",
       "      <td>2017-12-06 19:23:27</td>\n",
       "    </tr>\n",
       "  </tbody>\n",
       "</table>\n",
       "</div>"
      ],
      "text/plain": [
       "        stock_code                                               name  \\\n",
       "2           281739         Mainland Cheese Block Organic Cheddar 500g   \n",
       "1           363477                    Ceres Organics Brazil Nuts 250g   \n",
       "0           260803  Green & Blacks Chocolate Block Organic Dark Ch...   \n",
       "3  fake_stock_code                                               None   \n",
       "\n",
       "                                         description  size  sale_price  price  \\\n",
       "2  Mainland organic cheddar is a mild cheddar che...  500g         7.3  11.00   \n",
       "1                                               None  250g         9.5  11.29   \n",
       "0                                               None  100g         NaN   3.99   \n",
       "3                                               None  None         NaN    NaN   \n",
       "\n",
       "   discount_percentage  unit_price            datetime  \n",
       "2                 33.6  $14.60/1KG 2017-12-06 19:23:27  \n",
       "1                 15.9  $3.80/100G 2017-12-06 19:23:27  \n",
       "0                  NaN  $3.99/100G 2017-12-06 19:23:27  \n",
       "3                  NaN        None 2017-12-06 19:23:27  "
      ]
     },
     "execution_count": 30,
     "metadata": {},
     "output_type": "execute_result"
    }
   ],
   "source": [
    "# Get products in bulk\n",
    "\n",
    "cd.run_pipeline(DATA_DIR/'watchlist.yaml')"
   ]
  },
  {
   "cell_type": "code",
   "execution_count": 27,
   "metadata": {},
   "outputs": [],
   "source": [
    "# Run pipeline again: read watchlist, collect products, write products to file, \n",
    "# filter sales, and email results\n",
    "\n",
    "cd.run_pipeline(DATA_DIR/'watchlist.yaml', OUT_DIR/'products.csv', domain, key)\n",
    "%less {OUT_DIR/'products.csv'}"
   ]
  }
 ],
 "metadata": {
  "kernelspec": {
   "display_name": "Python 3",
   "language": "python",
   "name": "python3"
  },
  "language_info": {
   "codemirror_mode": {
    "name": "ipython",
    "version": 3
   },
   "file_extension": ".py",
   "mimetype": "text/x-python",
   "name": "python",
   "nbconvert_exporter": "python",
   "pygments_lexer": "ipython3",
   "version": "3.5.2"
  }
 },
 "nbformat": 4,
 "nbformat_minor": 2
}
