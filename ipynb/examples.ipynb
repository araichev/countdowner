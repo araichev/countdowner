{
 "cells": [
  {
   "cell_type": "code",
   "execution_count": 1,
   "metadata": {
    "collapsed": true
   },
   "outputs": [],
   "source": [
    "import datetime as dt\n",
    "from collections import OrderedDict\n",
    "from pathlib import Path\n",
    "import sys\n",
    "\n",
    "ROOT = Path('../')\n",
    "DATA_DIR = ROOT/'tests'/'data'\n",
    "OUT_DIR = ROOT/'output'\n",
    "\n",
    "sys.path.append(str(ROOT))\n",
    "\n",
    "%load_ext autoreload\n",
    "%autoreload 2\n",
    "\n",
    "import countdowner as cd"
   ]
  },
  {
   "cell_type": "code",
   "execution_count": 2,
   "metadata": {},
   "outputs": [
    {
     "data": {
      "text/plain": [
       "{'email_addresses': ['brainbummer@mailinator.com', 'rhymedude@mailinator.com'],\n",
       " 'name': 'test',\n",
       " 'products':       description       stock_code\n",
       " 0  organic cheese           281739\n",
       " 1    GB chocolate           260803\n",
       " 2            fake  fake_stock_code}"
      ]
     },
     "execution_count": 2,
     "metadata": {},
     "output_type": "execute_result"
    }
   ],
   "source": [
    "# Read a watchlist\n",
    "\n",
    "w = cd.read_watchlist(DATA_DIR/'watchlist.yaml')\n",
    "w\n"
   ]
  },
  {
   "cell_type": "code",
   "execution_count": 3,
   "metadata": {},
   "outputs": [
    {
     "data": {
      "text/plain": [
       "OrderedDict([('stock_code', 'fake_stock_code'),\n",
       "             ('name', None),\n",
       "             ('description', None),\n",
       "             ('size', None),\n",
       "             ('sale_price', None),\n",
       "             ('price', None),\n",
       "             ('discount_percentage', None),\n",
       "             ('unit_price', None),\n",
       "             ('datetime', '2017-10-06T13:08:24')])"
      ]
     },
     "execution_count": 3,
     "metadata": {},
     "output_type": "execute_result"
    }
   ],
   "source": [
    "# Get and parse a product\n",
    "\n",
    "code = w['products']['stock_code'].iat[-1]\n",
    "response = cd.get_product(code)\n",
    "cd.parse_product(response)"
   ]
  },
  {
   "cell_type": "code",
   "execution_count": 4,
   "metadata": {},
   "outputs": [
    {
     "name": "stdout",
     "output_type": "stream",
     "text": [
      "CPU times: user 196 ms, sys: 0 ns, total: 196 ms\n",
      "Wall time: 1.28 s\n"
     ]
    },
    {
     "data": {
      "text/html": [
       "<div>\n",
       "<style>\n",
       "    .dataframe thead tr:only-child th {\n",
       "        text-align: right;\n",
       "    }\n",
       "\n",
       "    .dataframe thead th {\n",
       "        text-align: left;\n",
       "    }\n",
       "\n",
       "    .dataframe tbody tr th {\n",
       "        vertical-align: top;\n",
       "    }\n",
       "</style>\n",
       "<table border=\"1\" class=\"dataframe\">\n",
       "  <thead>\n",
       "    <tr style=\"text-align: right;\">\n",
       "      <th></th>\n",
       "      <th>stock_code</th>\n",
       "      <th>name</th>\n",
       "      <th>description</th>\n",
       "      <th>size</th>\n",
       "      <th>sale_price</th>\n",
       "      <th>price</th>\n",
       "      <th>discount_percentage</th>\n",
       "      <th>unit_price</th>\n",
       "      <th>datetime</th>\n",
       "    </tr>\n",
       "  </thead>\n",
       "  <tbody>\n",
       "    <tr>\n",
       "      <th>0</th>\n",
       "      <td>281739</td>\n",
       "      <td>Mainland Cheese Block Organic Cheddar 500g</td>\n",
       "      <td>Mainland organic cheddar is a mild cheddar che...</td>\n",
       "      <td>500g</td>\n",
       "      <td>NaN</td>\n",
       "      <td>11.00</td>\n",
       "      <td>NaN</td>\n",
       "      <td>$22.00/1KG</td>\n",
       "      <td>2017-10-06 13:08:27</td>\n",
       "    </tr>\n",
       "    <tr>\n",
       "      <th>1</th>\n",
       "      <td>260803</td>\n",
       "      <td>Green &amp; Blacks Chocolate Block Organic Dark Ch...</td>\n",
       "      <td>None</td>\n",
       "      <td>100g</td>\n",
       "      <td>3.29</td>\n",
       "      <td>3.89</td>\n",
       "      <td>15.424165</td>\n",
       "      <td>$3.29/100G</td>\n",
       "      <td>2017-10-06 13:08:27</td>\n",
       "    </tr>\n",
       "    <tr>\n",
       "      <th>2</th>\n",
       "      <td>fake_stock_code</td>\n",
       "      <td>None</td>\n",
       "      <td>None</td>\n",
       "      <td>None</td>\n",
       "      <td>NaN</td>\n",
       "      <td>NaN</td>\n",
       "      <td>NaN</td>\n",
       "      <td>None</td>\n",
       "      <td>2017-10-06 13:08:28</td>\n",
       "    </tr>\n",
       "  </tbody>\n",
       "</table>\n",
       "</div>"
      ],
      "text/plain": [
       "        stock_code                                               name  \\\n",
       "0           281739         Mainland Cheese Block Organic Cheddar 500g   \n",
       "1           260803  Green & Blacks Chocolate Block Organic Dark Ch...   \n",
       "2  fake_stock_code                                               None   \n",
       "\n",
       "                                         description  size  sale_price  price  \\\n",
       "0  Mainland organic cheddar is a mild cheddar che...  500g         NaN  11.00   \n",
       "1                                               None  100g        3.29   3.89   \n",
       "2                                               None  None         NaN    NaN   \n",
       "\n",
       "   discount_percentage  unit_price            datetime  \n",
       "0                  NaN  $22.00/1KG 2017-10-06 13:08:27  \n",
       "1            15.424165  $3.29/100G 2017-10-06 13:08:27  \n",
       "2                  NaN        None 2017-10-06 13:08:28  "
      ]
     },
     "execution_count": 4,
     "metadata": {},
     "output_type": "execute_result"
    }
   ],
   "source": [
    "# Get and parse many products\n",
    "\n",
    "codes = w['products']['stock_code'].values\n",
    "%time f = cd.collect_products(codes, async=False)\n",
    "f"
   ]
  },
  {
   "cell_type": "code",
   "execution_count": 5,
   "metadata": {},
   "outputs": [
    {
     "name": "stdout",
     "output_type": "stream",
     "text": [
      "CPU times: user 188 ms, sys: 4 ms, total: 192 ms\n",
      "Wall time: 681 ms\n"
     ]
    },
    {
     "data": {
      "text/html": [
       "<div>\n",
       "<style>\n",
       "    .dataframe thead tr:only-child th {\n",
       "        text-align: right;\n",
       "    }\n",
       "\n",
       "    .dataframe thead th {\n",
       "        text-align: left;\n",
       "    }\n",
       "\n",
       "    .dataframe tbody tr th {\n",
       "        vertical-align: top;\n",
       "    }\n",
       "</style>\n",
       "<table border=\"1\" class=\"dataframe\">\n",
       "  <thead>\n",
       "    <tr style=\"text-align: right;\">\n",
       "      <th></th>\n",
       "      <th>stock_code</th>\n",
       "      <th>name</th>\n",
       "      <th>description</th>\n",
       "      <th>size</th>\n",
       "      <th>sale_price</th>\n",
       "      <th>price</th>\n",
       "      <th>discount_percentage</th>\n",
       "      <th>unit_price</th>\n",
       "      <th>datetime</th>\n",
       "    </tr>\n",
       "  </thead>\n",
       "  <tbody>\n",
       "    <tr>\n",
       "      <th>0</th>\n",
       "      <td>260803</td>\n",
       "      <td>Green &amp; Blacks Chocolate Block Organic Dark Ch...</td>\n",
       "      <td>None</td>\n",
       "      <td>100g</td>\n",
       "      <td>3.29</td>\n",
       "      <td>3.89</td>\n",
       "      <td>15.424165</td>\n",
       "      <td>$3.29/100G</td>\n",
       "      <td>2017-10-06 13:08:31</td>\n",
       "    </tr>\n",
       "    <tr>\n",
       "      <th>1</th>\n",
       "      <td>281739</td>\n",
       "      <td>Mainland Cheese Block Organic Cheddar 500g</td>\n",
       "      <td>Mainland organic cheddar is a mild cheddar che...</td>\n",
       "      <td>500g</td>\n",
       "      <td>NaN</td>\n",
       "      <td>11.00</td>\n",
       "      <td>NaN</td>\n",
       "      <td>$22.00/1KG</td>\n",
       "      <td>2017-10-06 13:08:31</td>\n",
       "    </tr>\n",
       "    <tr>\n",
       "      <th>2</th>\n",
       "      <td>fake_stock_code</td>\n",
       "      <td>None</td>\n",
       "      <td>None</td>\n",
       "      <td>None</td>\n",
       "      <td>NaN</td>\n",
       "      <td>NaN</td>\n",
       "      <td>NaN</td>\n",
       "      <td>None</td>\n",
       "      <td>2017-10-06 13:08:31</td>\n",
       "    </tr>\n",
       "  </tbody>\n",
       "</table>\n",
       "</div>"
      ],
      "text/plain": [
       "        stock_code                                               name  \\\n",
       "0           260803  Green & Blacks Chocolate Block Organic Dark Ch...   \n",
       "1           281739         Mainland Cheese Block Organic Cheddar 500g   \n",
       "2  fake_stock_code                                               None   \n",
       "\n",
       "                                         description  size  sale_price  price  \\\n",
       "0                                               None  100g        3.29   3.89   \n",
       "1  Mainland organic cheddar is a mild cheddar che...  500g         NaN  11.00   \n",
       "2                                               None  None         NaN    NaN   \n",
       "\n",
       "   discount_percentage  unit_price            datetime  \n",
       "0            15.424165  $3.29/100G 2017-10-06 13:08:31  \n",
       "1                  NaN  $22.00/1KG 2017-10-06 13:08:31  \n",
       "2                  NaN        None 2017-10-06 13:08:31  "
      ]
     },
     "execution_count": 5,
     "metadata": {},
     "output_type": "execute_result"
    }
   ],
   "source": [
    "# Get many products asynchronously and parse\n",
    "\n",
    "codes = w['products']['stock_code'].values\n",
    "%time f = cd.collect_products(codes, async=True)\n",
    "f"
   ]
  },
  {
   "cell_type": "code",
   "execution_count": 6,
   "metadata": {},
   "outputs": [
    {
     "data": {
      "text/html": [
       "<div>\n",
       "<style>\n",
       "    .dataframe thead tr:only-child th {\n",
       "        text-align: right;\n",
       "    }\n",
       "\n",
       "    .dataframe thead th {\n",
       "        text-align: left;\n",
       "    }\n",
       "\n",
       "    .dataframe tbody tr th {\n",
       "        vertical-align: top;\n",
       "    }\n",
       "</style>\n",
       "<table border=\"1\" class=\"dataframe\">\n",
       "  <thead>\n",
       "    <tr style=\"text-align: right;\">\n",
       "      <th></th>\n",
       "      <th>name</th>\n",
       "      <th>sale_price</th>\n",
       "      <th>price</th>\n",
       "      <th>discount_percentage</th>\n",
       "    </tr>\n",
       "  </thead>\n",
       "  <tbody>\n",
       "    <tr>\n",
       "      <th>0</th>\n",
       "      <td>Green &amp; Blacks Chocolate Block Organic Dark Ch...</td>\n",
       "      <td>3.29</td>\n",
       "      <td>3.89</td>\n",
       "      <td>15.424165</td>\n",
       "    </tr>\n",
       "  </tbody>\n",
       "</table>\n",
       "</div>"
      ],
      "text/plain": [
       "                                                name  sale_price  price  \\\n",
       "0  Green & Blacks Chocolate Block Organic Dark Ch...        3.29   3.89   \n",
       "\n",
       "   discount_percentage  \n",
       "0            15.424165  "
      ]
     },
     "execution_count": 6,
     "metadata": {},
     "output_type": "execute_result"
    }
   ],
   "source": [
    "# Filter sales\n",
    "\n",
    "g = cd.filter_sales(f)\n",
    "g"
   ]
  },
  {
   "cell_type": "code",
   "execution_count": 9,
   "metadata": {},
   "outputs": [
    {
     "data": {
      "text/plain": [
       "<Response [200]>"
      ]
     },
     "execution_count": 9,
     "metadata": {},
     "output_type": "execute_result"
    }
   ],
   "source": [
    "# Email sales\n",
    "\n",
    "domain = cd.get_secret('mailgun_domain')  # replace with your Mailgun domain\n",
    "key = cd.get_secret('mailgun_api_key')  # replace with your Mailgun API key\n",
    "cd.email(g, w['email_addresses'], domain, key)"
   ]
  },
  {
   "cell_type": "code",
   "execution_count": 7,
   "metadata": {},
   "outputs": [
    {
     "data": {
      "text/html": [
       "<div>\n",
       "<style>\n",
       "    .dataframe thead tr:only-child th {\n",
       "        text-align: right;\n",
       "    }\n",
       "\n",
       "    .dataframe thead th {\n",
       "        text-align: left;\n",
       "    }\n",
       "\n",
       "    .dataframe tbody tr th {\n",
       "        vertical-align: top;\n",
       "    }\n",
       "</style>\n",
       "<table border=\"1\" class=\"dataframe\">\n",
       "  <thead>\n",
       "    <tr style=\"text-align: right;\">\n",
       "      <th></th>\n",
       "      <th>stock_code</th>\n",
       "      <th>name</th>\n",
       "      <th>description</th>\n",
       "      <th>size</th>\n",
       "      <th>sale_price</th>\n",
       "      <th>price</th>\n",
       "      <th>discount_percentage</th>\n",
       "      <th>unit_price</th>\n",
       "      <th>datetime</th>\n",
       "    </tr>\n",
       "  </thead>\n",
       "  <tbody>\n",
       "    <tr>\n",
       "      <th>0</th>\n",
       "      <td>260803</td>\n",
       "      <td>Green &amp; Blacks Chocolate Block Organic Dark Ch...</td>\n",
       "      <td>None</td>\n",
       "      <td>100g</td>\n",
       "      <td>3.29</td>\n",
       "      <td>3.89</td>\n",
       "      <td>15.424165</td>\n",
       "      <td>$3.29/100G</td>\n",
       "      <td>2017-10-06 13:09:33</td>\n",
       "    </tr>\n",
       "    <tr>\n",
       "      <th>1</th>\n",
       "      <td>281739</td>\n",
       "      <td>Mainland Cheese Block Organic Cheddar 500g</td>\n",
       "      <td>Mainland organic cheddar is a mild cheddar che...</td>\n",
       "      <td>500g</td>\n",
       "      <td>NaN</td>\n",
       "      <td>11.00</td>\n",
       "      <td>NaN</td>\n",
       "      <td>$22.00/1KG</td>\n",
       "      <td>2017-10-06 13:09:33</td>\n",
       "    </tr>\n",
       "    <tr>\n",
       "      <th>2</th>\n",
       "      <td>fake_stock_code</td>\n",
       "      <td>None</td>\n",
       "      <td>None</td>\n",
       "      <td>None</td>\n",
       "      <td>NaN</td>\n",
       "      <td>NaN</td>\n",
       "      <td>NaN</td>\n",
       "      <td>None</td>\n",
       "      <td>2017-10-06 13:09:33</td>\n",
       "    </tr>\n",
       "  </tbody>\n",
       "</table>\n",
       "</div>"
      ],
      "text/plain": [
       "        stock_code                                               name  \\\n",
       "0           260803  Green & Blacks Chocolate Block Organic Dark Ch...   \n",
       "1           281739         Mainland Cheese Block Organic Cheddar 500g   \n",
       "2  fake_stock_code                                               None   \n",
       "\n",
       "                                         description  size  sale_price  price  \\\n",
       "0                                               None  100g        3.29   3.89   \n",
       "1  Mainland organic cheddar is a mild cheddar che...  500g         NaN  11.00   \n",
       "2                                               None  None         NaN    NaN   \n",
       "\n",
       "   discount_percentage  unit_price            datetime  \n",
       "0            15.424165  $3.29/100G 2017-10-06 13:09:33  \n",
       "1                  NaN  $22.00/1KG 2017-10-06 13:09:33  \n",
       "2                  NaN        None 2017-10-06 13:09:33  "
      ]
     },
     "execution_count": 7,
     "metadata": {},
     "output_type": "execute_result"
    }
   ],
   "source": [
    "# Get products in bulk\n",
    "\n",
    "cd.run_pipeline(DATA_DIR/'watchlist.yaml')"
   ]
  },
  {
   "cell_type": "code",
   "execution_count": 14,
   "metadata": {},
   "outputs": [],
   "source": [
    "# Run pipeline again: read watchlist, collect products, write products to file, \n",
    "# filter sales, and email results\n",
    "\n",
    "cd.run_pipeline(DATA_DIR/'watchlist.yaml', OUT_DIR/'products.csv', domain, key)\n",
    "%less {OUT_DIR/'products.csv'}"
   ]
  },
  {
   "cell_type": "code",
   "execution_count": null,
   "metadata": {
    "collapsed": true
   },
   "outputs": [],
   "source": []
  }
 ],
 "metadata": {
  "kernelspec": {
   "display_name": "Python 3",
   "language": "python",
   "name": "python3"
  },
  "language_info": {
   "codemirror_mode": {
    "name": "ipython",
    "version": 3
   },
   "file_extension": ".py",
   "mimetype": "text/x-python",
   "name": "python",
   "nbconvert_exporter": "python",
   "pygments_lexer": "ipython3",
   "version": "3.5.2"
  }
 },
 "nbformat": 4,
 "nbformat_minor": 2
}
