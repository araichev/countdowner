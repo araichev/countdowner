{
 "cells": [
  {
   "cell_type": "code",
   "execution_count": 1,
   "metadata": {
    "collapsed": true
   },
   "outputs": [],
   "source": [
    "import datetime as dt\n",
    "from collections import OrderedDict\n",
    "from pathlib import Path\n",
    "import sys\n",
    "\n",
    "import requests\n",
    "from bs4 import BeautifulSoup\n",
    "import pandas as pd\n",
    "import numpy as np\n",
    "import curio\n",
    "import curio_http\n",
    "\n",
    "ROOT = Path('../')\n",
    "DATA_DIR = ROOT/'data'\n",
    "OUT_DIR = ROOT/'output'\n",
    "\n",
    "sys.path.append(str(ROOT))\n",
    "\n",
    "%load_ext autoreload\n",
    "%autoreload 2\n",
    "\n",
    "import countdowner as cd"
   ]
  },
  {
   "cell_type": "code",
   "execution_count": 2,
   "metadata": {},
   "outputs": [
    {
     "data": {
      "text/plain": [
       "{'email_address': 'brainbummer@mailinator.com',\n",
       " 'name': 'test',\n",
       " 'products':                          description stock_code\n",
       " 0                     organic cheese     281739\n",
       " 1                       GB chocolate     260803\n",
       " 2                     Lupi olive oil     701829\n",
       " 3      Earthcare double toilet paper     381895\n",
       " 4                      Dijon mustard     700630\n",
       " 5                whole grain mustard     700631\n",
       " 6            Pics peanut butter 380g     360257\n",
       " 7           Pics peanut butter 1000g     887052\n",
       " 8                      coconut cream     271818\n",
       " 9     Ecostore dishwash liquid 500mL     701108\n",
       " 10  Earthwise dishwash liquid 1000mL     504018\n",
       " 11                             phony      phony}"
      ]
     },
     "execution_count": 2,
     "metadata": {},
     "output_type": "execute_result"
    }
   ],
   "source": [
    "# Read a watchlist\n",
    "\n",
    "w = cd.read_watchlist(DATA_DIR/'test_watchlist.yaml')\n",
    "w\n"
   ]
  },
  {
   "cell_type": "code",
   "execution_count": 4,
   "metadata": {},
   "outputs": [
    {
     "data": {
      "text/plain": [
       "OrderedDict([('stock_code', None),\n",
       "             ('name', None),\n",
       "             ('description', None),\n",
       "             ('size', None),\n",
       "             ('sale_price', None),\n",
       "             ('price', None),\n",
       "             ('discount_percentage', None),\n",
       "             ('unit_price', None),\n",
       "             ('datetime', '2017-06-04T12:05:40')])"
      ]
     },
     "execution_count": 4,
     "metadata": {},
     "output_type": "execute_result"
    }
   ],
   "source": [
    "# Get and parse product info\n",
    "\n",
    "code = w['products']['stock_code'].iat[-1]\n",
    "response = cd.get_product(code)\n",
    "cd.parse_product(response.text)"
   ]
  },
  {
   "cell_type": "code",
   "execution_count": null,
   "metadata": {},
   "outputs": [],
   "source": [
    "# Collect info for several products\n",
    "\n",
    "codes = w['products']['stock_code'].values\n",
    "%time f = cd.collect_products(codes)\n",
    "f"
   ]
  },
  {
   "cell_type": "code",
   "execution_count": null,
   "metadata": {},
   "outputs": [],
   "source": [
    "# Collect info for several products asynchronously\n",
    "\n",
    "codes = w['products']['stock_code'].values\n",
    "%time f = cd.collect_products_a(codes)\n",
    "f"
   ]
  },
  {
   "cell_type": "code",
   "execution_count": null,
   "metadata": {},
   "outputs": [],
   "source": [
    "# Filter sales\n",
    "\n",
    "g = cd.filter_sales(f)\n",
    "g"
   ]
  },
  {
   "cell_type": "code",
   "execution_count": null,
   "metadata": {},
   "outputs": [],
   "source": [
    "# Email sales\n",
    "\n",
    "domain = cd.get_secret('mailgun_domain')\n",
    "key = cd.get_secret('mailgun_api_key')\n",
    "cd.email(g, 'brainbummer@mailinator.com', domain, key)"
   ]
  },
  {
   "cell_type": "code",
   "execution_count": null,
   "metadata": {},
   "outputs": [],
   "source": [
    "# Run pipeline: read watchlist, get product info, write product info, \n",
    "# filter sales, and email results\n",
    "\n",
    "%time cd.run_pipeline(DATA_DIR/'test_watchlist.yaml', OUT_DIR, domain, key)"
   ]
  },
  {
   "cell_type": "code",
   "execution_count": null,
   "metadata": {
    "collapsed": true
   },
   "outputs": [],
   "source": []
  }
 ],
 "metadata": {
  "kernelspec": {
   "display_name": "Python 3",
   "language": "python",
   "name": "python3"
  },
  "language_info": {
   "codemirror_mode": {
    "name": "ipython",
    "version": 3
   },
   "file_extension": ".py",
   "mimetype": "text/x-python",
   "name": "python",
   "nbconvert_exporter": "python",
   "pygments_lexer": "ipython3",
   "version": "3.5.2"
  }
 },
 "nbformat": 4,
 "nbformat_minor": 2
}
