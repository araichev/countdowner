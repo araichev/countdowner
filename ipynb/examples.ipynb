{
 "cells": [
  {
   "cell_type": "code",
   "execution_count": 8,
   "metadata": {},
   "outputs": [
    {
     "name": "stdout",
     "output_type": "stream",
     "text": [
      "The autoreload extension is already loaded. To reload it, use:\n",
      "  %reload_ext autoreload\n"
     ]
    }
   ],
   "source": [
    "import datetime as dt\n",
    "from collections import OrderedDict\n",
    "from pathlib import Path\n",
    "import sys\n",
    "import os\n",
    "\n",
    "ROOT = Path('../')\n",
    "DATA_DIR = ROOT/'tests'/'data'\n",
    "OUT_DIR = ROOT/'output'\n",
    "\n",
    "sys.path.append(str(ROOT))\n",
    "\n",
    "%load_ext autoreload\n",
    "%autoreload 2\n",
    "\n",
    "import countdowner as cd"
   ]
  },
  {
   "cell_type": "code",
   "execution_count": 2,
   "metadata": {},
   "outputs": [
    {
     "data": {
      "text/plain": [
       "{'email_addresses': ['brainbummer@mailinator.com', 'rhymedude@mailinator.com'],\n",
       " 'name': 'test',\n",
       " 'products':     description       stock_code\n",
       " 0   Brazil nuts           363477\n",
       " 1  GB chocolate           260803\n",
       " 2          fake  fake_stock_code}"
      ]
     },
     "execution_count": 2,
     "metadata": {},
     "output_type": "execute_result"
    }
   ],
   "source": [
    "# Read a watchlist\n",
    "\n",
    "w = cd.read_watchlist(DATA_DIR/'watchlist.yaml')\n",
    "w\n"
   ]
  },
  {
   "cell_type": "code",
   "execution_count": 3,
   "metadata": {},
   "outputs": [
    {
     "data": {
      "text/plain": [
       "OrderedDict([('stock_code', 'fake_stock_code'),\n",
       "             ('name', None),\n",
       "             ('description', None),\n",
       "             ('size', None),\n",
       "             ('sale_price', None),\n",
       "             ('price', None),\n",
       "             ('discount_percentage', None),\n",
       "             ('unit_price', None),\n",
       "             ('datetime', '2017-11-20T17:50:04')])"
      ]
     },
     "execution_count": 3,
     "metadata": {},
     "output_type": "execute_result"
    }
   ],
   "source": [
    "# Get and parse a product\n",
    "\n",
    "code = w['products']['stock_code'].iat[-1]\n",
    "response = cd.get_product(code)\n",
    "cd.parse_product(response)"
   ]
  },
  {
   "cell_type": "code",
   "execution_count": 4,
   "metadata": {},
   "outputs": [
    {
     "name": "stdout",
     "output_type": "stream",
     "text": [
      "CPU times: user 272 ms, sys: 0 ns, total: 272 ms\n",
      "Wall time: 1.28 s\n"
     ]
    },
    {
     "data": {
      "text/html": [
       "<div>\n",
       "<style>\n",
       "    .dataframe thead tr:only-child th {\n",
       "        text-align: right;\n",
       "    }\n",
       "\n",
       "    .dataframe thead th {\n",
       "        text-align: left;\n",
       "    }\n",
       "\n",
       "    .dataframe tbody tr th {\n",
       "        vertical-align: top;\n",
       "    }\n",
       "</style>\n",
       "<table border=\"1\" class=\"dataframe\">\n",
       "  <thead>\n",
       "    <tr style=\"text-align: right;\">\n",
       "      <th></th>\n",
       "      <th>stock_code</th>\n",
       "      <th>name</th>\n",
       "      <th>description</th>\n",
       "      <th>size</th>\n",
       "      <th>sale_price</th>\n",
       "      <th>price</th>\n",
       "      <th>discount_percentage</th>\n",
       "      <th>unit_price</th>\n",
       "      <th>datetime</th>\n",
       "    </tr>\n",
       "  </thead>\n",
       "  <tbody>\n",
       "    <tr>\n",
       "      <th>0</th>\n",
       "      <td>363477</td>\n",
       "      <td>Ceres Organics Brazil Nuts 250g</td>\n",
       "      <td>None</td>\n",
       "      <td>250g</td>\n",
       "      <td>9.5</td>\n",
       "      <td>11.29</td>\n",
       "      <td>15.854739</td>\n",
       "      <td>$3.80/100G</td>\n",
       "      <td>2017-11-20 17:50:04</td>\n",
       "    </tr>\n",
       "    <tr>\n",
       "      <th>1</th>\n",
       "      <td>260803</td>\n",
       "      <td>Green &amp; Blacks Chocolate Block Organic Dark Ch...</td>\n",
       "      <td>None</td>\n",
       "      <td>100g</td>\n",
       "      <td>3.5</td>\n",
       "      <td>3.89</td>\n",
       "      <td>10.025707</td>\n",
       "      <td>$3.50/100G</td>\n",
       "      <td>2017-11-20 17:50:04</td>\n",
       "    </tr>\n",
       "    <tr>\n",
       "      <th>2</th>\n",
       "      <td>fake_stock_code</td>\n",
       "      <td>None</td>\n",
       "      <td>None</td>\n",
       "      <td>None</td>\n",
       "      <td>NaN</td>\n",
       "      <td>NaN</td>\n",
       "      <td>NaN</td>\n",
       "      <td>None</td>\n",
       "      <td>2017-11-20 17:50:05</td>\n",
       "    </tr>\n",
       "  </tbody>\n",
       "</table>\n",
       "</div>"
      ],
      "text/plain": [
       "        stock_code                                               name  \\\n",
       "0           363477                    Ceres Organics Brazil Nuts 250g   \n",
       "1           260803  Green & Blacks Chocolate Block Organic Dark Ch...   \n",
       "2  fake_stock_code                                               None   \n",
       "\n",
       "  description  size  sale_price  price  discount_percentage  unit_price  \\\n",
       "0        None  250g         9.5  11.29            15.854739  $3.80/100G   \n",
       "1        None  100g         3.5   3.89            10.025707  $3.50/100G   \n",
       "2        None  None         NaN    NaN                  NaN        None   \n",
       "\n",
       "             datetime  \n",
       "0 2017-11-20 17:50:04  \n",
       "1 2017-11-20 17:50:04  \n",
       "2 2017-11-20 17:50:05  "
      ]
     },
     "execution_count": 4,
     "metadata": {},
     "output_type": "execute_result"
    }
   ],
   "source": [
    "# Get and parse many products\n",
    "\n",
    "codes = w['products']['stock_code'].values\n",
    "%time f = cd.collect_products(codes, async=False)\n",
    "f"
   ]
  },
  {
   "cell_type": "code",
   "execution_count": 5,
   "metadata": {},
   "outputs": [
    {
     "name": "stdout",
     "output_type": "stream",
     "text": [
      "CPU times: user 260 ms, sys: 4 ms, total: 264 ms\n",
      "Wall time: 711 ms\n"
     ]
    },
    {
     "data": {
      "text/html": [
       "<div>\n",
       "<style>\n",
       "    .dataframe thead tr:only-child th {\n",
       "        text-align: right;\n",
       "    }\n",
       "\n",
       "    .dataframe thead th {\n",
       "        text-align: left;\n",
       "    }\n",
       "\n",
       "    .dataframe tbody tr th {\n",
       "        vertical-align: top;\n",
       "    }\n",
       "</style>\n",
       "<table border=\"1\" class=\"dataframe\">\n",
       "  <thead>\n",
       "    <tr style=\"text-align: right;\">\n",
       "      <th></th>\n",
       "      <th>stock_code</th>\n",
       "      <th>name</th>\n",
       "      <th>description</th>\n",
       "      <th>size</th>\n",
       "      <th>sale_price</th>\n",
       "      <th>price</th>\n",
       "      <th>discount_percentage</th>\n",
       "      <th>unit_price</th>\n",
       "      <th>datetime</th>\n",
       "    </tr>\n",
       "  </thead>\n",
       "  <tbody>\n",
       "    <tr>\n",
       "      <th>0</th>\n",
       "      <td>260803</td>\n",
       "      <td>Green &amp; Blacks Chocolate Block Organic Dark Ch...</td>\n",
       "      <td>None</td>\n",
       "      <td>100g</td>\n",
       "      <td>3.5</td>\n",
       "      <td>3.89</td>\n",
       "      <td>10.025707</td>\n",
       "      <td>$3.50/100G</td>\n",
       "      <td>2017-11-20 17:50:05</td>\n",
       "    </tr>\n",
       "    <tr>\n",
       "      <th>1</th>\n",
       "      <td>363477</td>\n",
       "      <td>Ceres Organics Brazil Nuts 250g</td>\n",
       "      <td>None</td>\n",
       "      <td>250g</td>\n",
       "      <td>9.5</td>\n",
       "      <td>11.29</td>\n",
       "      <td>15.854739</td>\n",
       "      <td>$3.80/100G</td>\n",
       "      <td>2017-11-20 17:50:05</td>\n",
       "    </tr>\n",
       "    <tr>\n",
       "      <th>2</th>\n",
       "      <td>fake_stock_code</td>\n",
       "      <td>None</td>\n",
       "      <td>None</td>\n",
       "      <td>None</td>\n",
       "      <td>NaN</td>\n",
       "      <td>NaN</td>\n",
       "      <td>NaN</td>\n",
       "      <td>None</td>\n",
       "      <td>2017-11-20 17:50:06</td>\n",
       "    </tr>\n",
       "  </tbody>\n",
       "</table>\n",
       "</div>"
      ],
      "text/plain": [
       "        stock_code                                               name  \\\n",
       "0           260803  Green & Blacks Chocolate Block Organic Dark Ch...   \n",
       "1           363477                    Ceres Organics Brazil Nuts 250g   \n",
       "2  fake_stock_code                                               None   \n",
       "\n",
       "  description  size  sale_price  price  discount_percentage  unit_price  \\\n",
       "0        None  100g         3.5   3.89            10.025707  $3.50/100G   \n",
       "1        None  250g         9.5  11.29            15.854739  $3.80/100G   \n",
       "2        None  None         NaN    NaN                  NaN        None   \n",
       "\n",
       "             datetime  \n",
       "0 2017-11-20 17:50:05  \n",
       "1 2017-11-20 17:50:05  \n",
       "2 2017-11-20 17:50:06  "
      ]
     },
     "execution_count": 5,
     "metadata": {},
     "output_type": "execute_result"
    }
   ],
   "source": [
    "# Get many products asynchronously and parse\n",
    "\n",
    "codes = w['products']['stock_code'].values\n",
    "%time f = cd.collect_products(codes, async=True)\n",
    "f"
   ]
  },
  {
   "cell_type": "code",
   "execution_count": 6,
   "metadata": {},
   "outputs": [
    {
     "data": {
      "text/html": [
       "<div>\n",
       "<style>\n",
       "    .dataframe thead tr:only-child th {\n",
       "        text-align: right;\n",
       "    }\n",
       "\n",
       "    .dataframe thead th {\n",
       "        text-align: left;\n",
       "    }\n",
       "\n",
       "    .dataframe tbody tr th {\n",
       "        vertical-align: top;\n",
       "    }\n",
       "</style>\n",
       "<table border=\"1\" class=\"dataframe\">\n",
       "  <thead>\n",
       "    <tr style=\"text-align: right;\">\n",
       "      <th></th>\n",
       "      <th>name</th>\n",
       "      <th>sale_price</th>\n",
       "      <th>price</th>\n",
       "      <th>discount_percentage</th>\n",
       "    </tr>\n",
       "  </thead>\n",
       "  <tbody>\n",
       "    <tr>\n",
       "      <th>0</th>\n",
       "      <td>Green &amp; Blacks Chocolate Block Organic Dark Ch...</td>\n",
       "      <td>3.5</td>\n",
       "      <td>3.89</td>\n",
       "      <td>10.025707</td>\n",
       "    </tr>\n",
       "    <tr>\n",
       "      <th>1</th>\n",
       "      <td>Ceres Organics Brazil Nuts 250g</td>\n",
       "      <td>9.5</td>\n",
       "      <td>11.29</td>\n",
       "      <td>15.854739</td>\n",
       "    </tr>\n",
       "  </tbody>\n",
       "</table>\n",
       "</div>"
      ],
      "text/plain": [
       "                                                name  sale_price  price  \\\n",
       "0  Green & Blacks Chocolate Block Organic Dark Ch...         3.5   3.89   \n",
       "1                    Ceres Organics Brazil Nuts 250g         9.5  11.29   \n",
       "\n",
       "   discount_percentage  \n",
       "0            10.025707  \n",
       "1            15.854739  "
      ]
     },
     "execution_count": 6,
     "metadata": {},
     "output_type": "execute_result"
    }
   ],
   "source": [
    "# Filter sales\n",
    "\n",
    "g = cd.filter_sales(f)\n",
    "g"
   ]
  },
  {
   "cell_type": "code",
   "execution_count": 9,
   "metadata": {},
   "outputs": [
    {
     "data": {
      "text/plain": [
       "<Response [200]>"
      ]
     },
     "execution_count": 9,
     "metadata": {},
     "output_type": "execute_result"
    }
   ],
   "source": [
    "# Email sales\n",
    "\n",
    "domain = os.environ['MAILGUN_DOMAIN'] # replace with your Mailgun domain\n",
    "key = os.environ['MAILGUN_KEY'] # replace with your Mailgun API key\n",
    "cd.email(g, ['brainbummer@mailinator.com'], domain, key)"
   ]
  },
  {
   "cell_type": "code",
   "execution_count": 10,
   "metadata": {},
   "outputs": [
    {
     "data": {
      "text/html": [
       "<div>\n",
       "<style>\n",
       "    .dataframe thead tr:only-child th {\n",
       "        text-align: right;\n",
       "    }\n",
       "\n",
       "    .dataframe thead th {\n",
       "        text-align: left;\n",
       "    }\n",
       "\n",
       "    .dataframe tbody tr th {\n",
       "        vertical-align: top;\n",
       "    }\n",
       "</style>\n",
       "<table border=\"1\" class=\"dataframe\">\n",
       "  <thead>\n",
       "    <tr style=\"text-align: right;\">\n",
       "      <th></th>\n",
       "      <th>stock_code</th>\n",
       "      <th>name</th>\n",
       "      <th>description</th>\n",
       "      <th>size</th>\n",
       "      <th>sale_price</th>\n",
       "      <th>price</th>\n",
       "      <th>discount_percentage</th>\n",
       "      <th>unit_price</th>\n",
       "      <th>datetime</th>\n",
       "    </tr>\n",
       "  </thead>\n",
       "  <tbody>\n",
       "    <tr>\n",
       "      <th>0</th>\n",
       "      <td>363477</td>\n",
       "      <td>Ceres Organics Brazil Nuts 250g</td>\n",
       "      <td>None</td>\n",
       "      <td>250g</td>\n",
       "      <td>9.5</td>\n",
       "      <td>11.29</td>\n",
       "      <td>15.854739</td>\n",
       "      <td>$3.80/100G</td>\n",
       "      <td>2017-11-20 17:50:24</td>\n",
       "    </tr>\n",
       "    <tr>\n",
       "      <th>1</th>\n",
       "      <td>260803</td>\n",
       "      <td>Green &amp; Blacks Chocolate Block Organic Dark Ch...</td>\n",
       "      <td>None</td>\n",
       "      <td>100g</td>\n",
       "      <td>3.5</td>\n",
       "      <td>3.89</td>\n",
       "      <td>10.025707</td>\n",
       "      <td>$3.50/100G</td>\n",
       "      <td>2017-11-20 17:50:24</td>\n",
       "    </tr>\n",
       "    <tr>\n",
       "      <th>2</th>\n",
       "      <td>fake_stock_code</td>\n",
       "      <td>None</td>\n",
       "      <td>None</td>\n",
       "      <td>None</td>\n",
       "      <td>NaN</td>\n",
       "      <td>NaN</td>\n",
       "      <td>NaN</td>\n",
       "      <td>None</td>\n",
       "      <td>2017-11-20 17:50:25</td>\n",
       "    </tr>\n",
       "  </tbody>\n",
       "</table>\n",
       "</div>"
      ],
      "text/plain": [
       "        stock_code                                               name  \\\n",
       "0           363477                    Ceres Organics Brazil Nuts 250g   \n",
       "1           260803  Green & Blacks Chocolate Block Organic Dark Ch...   \n",
       "2  fake_stock_code                                               None   \n",
       "\n",
       "  description  size  sale_price  price  discount_percentage  unit_price  \\\n",
       "0        None  250g         9.5  11.29            15.854739  $3.80/100G   \n",
       "1        None  100g         3.5   3.89            10.025707  $3.50/100G   \n",
       "2        None  None         NaN    NaN                  NaN        None   \n",
       "\n",
       "             datetime  \n",
       "0 2017-11-20 17:50:24  \n",
       "1 2017-11-20 17:50:24  \n",
       "2 2017-11-20 17:50:25  "
      ]
     },
     "execution_count": 10,
     "metadata": {},
     "output_type": "execute_result"
    }
   ],
   "source": [
    "# Get products in bulk\n",
    "\n",
    "cd.run_pipeline(DATA_DIR/'watchlist.yaml')"
   ]
  },
  {
   "cell_type": "code",
   "execution_count": 11,
   "metadata": {},
   "outputs": [],
   "source": [
    "# Run pipeline again: read watchlist, collect products, write products to file, \n",
    "# filter sales, and email results\n",
    "\n",
    "cd.run_pipeline(DATA_DIR/'watchlist.yaml', OUT_DIR/'products.csv', domain, key)\n",
    "%less {OUT_DIR/'products.csv'}"
   ]
  },
  {
   "cell_type": "code",
   "execution_count": null,
   "metadata": {},
   "outputs": [],
   "source": []
  }
 ],
 "metadata": {
  "kernelspec": {
   "display_name": "Python 3",
   "language": "python",
   "name": "python3"
  },
  "language_info": {
   "codemirror_mode": {
    "name": "ipython",
    "version": 3
   },
   "file_extension": ".py",
   "mimetype": "text/x-python",
   "name": "python",
   "nbconvert_exporter": "python",
   "pygments_lexer": "ipython3",
   "version": "3.5.2"
  }
 },
 "nbformat": 4,
 "nbformat_minor": 2
}
